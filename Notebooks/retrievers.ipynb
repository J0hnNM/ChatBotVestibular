{
  "nbformat": 4,
  "nbformat_minor": 0,
  "metadata": {
    "colab": {
      "provenance": [],
      "collapsed_sections": [
        "OgupGbjBLWuw",
        "2vVK2CCLP2pd",
        "ZMLxZc4qOD4P"
      ],
      "authorship_tag": "ABX9TyOywxcr//S+n/C0umq3YKJN",
      "include_colab_link": true
    },
    "kernelspec": {
      "name": "python3",
      "display_name": "Python 3"
    },
    "language_info": {
      "name": "python"
    }
  },
  "cells": [
    {
      "cell_type": "markdown",
      "metadata": {
        "id": "view-in-github",
        "colab_type": "text"
      },
      "source": [
        "<a href=\"https://colab.research.google.com/github/merovivant/AssistenteVestibular/blob/main/Notebooks/retrievers.ipynb\" target=\"_parent\"><img src=\"https://colab.research.google.com/assets/colab-badge.svg\" alt=\"Open In Colab\"/></a>"
      ]
    },
    {
      "cell_type": "markdown",
      "source": [
        "# Retrievers\n",
        "Este documento visa utilizar o dataset de validação para avaliar o desempenho de diferentes módulos retrievers do langchain na construção da resposta final."
      ],
      "metadata": {
        "id": "t1P7S5FydxpB"
      }
    },
    {
      "cell_type": "code",
      "source": [
        "!pip -q install openai langchain pinecone-client tiktoken rapidfuzz"
      ],
      "metadata": {
        "id": "-nMCvqHTFuLK",
        "colab": {
          "base_uri": "https://localhost:8080/"
        },
        "outputId": "e79dea56-6dba-41a7-b008-9a232c40162e"
      },
      "execution_count": 1,
      "outputs": [
        {
          "output_type": "stream",
          "name": "stdout",
          "text": [
            "\u001b[2K     \u001b[90m━━━━━━━━━━━━━━━━━━━━━━━━━━━━━━━━━━━━━━━━\u001b[0m \u001b[32m77.0/77.0 kB\u001b[0m \u001b[31m1.9 MB/s\u001b[0m eta \u001b[36m0:00:00\u001b[0m\n",
            "\u001b[2K     \u001b[90m━━━━━━━━━━━━━━━━━━━━━━━━━━━━━━━━━━━━━━━━\u001b[0m \u001b[32m1.9/1.9 MB\u001b[0m \u001b[31m29.6 MB/s\u001b[0m eta \u001b[36m0:00:00\u001b[0m\n",
            "\u001b[2K     \u001b[90m━━━━━━━━━━━━━━━━━━━━━━━━━━━━━━━━━━━━━━━━\u001b[0m \u001b[32m179.4/179.4 kB\u001b[0m \u001b[31m18.6 MB/s\u001b[0m eta \u001b[36m0:00:00\u001b[0m\n",
            "\u001b[2K     \u001b[90m━━━━━━━━━━━━━━━━━━━━━━━━━━━━━━━━━━━━━━━━\u001b[0m \u001b[32m2.0/2.0 MB\u001b[0m \u001b[31m75.1 MB/s\u001b[0m eta \u001b[36m0:00:00\u001b[0m\n",
            "\u001b[2K     \u001b[90m━━━━━━━━━━━━━━━━━━━━━━━━━━━━━━━━━━━━━━━━\u001b[0m \u001b[32m3.2/3.2 MB\u001b[0m \u001b[31m71.7 MB/s\u001b[0m eta \u001b[36m0:00:00\u001b[0m\n",
            "\u001b[2K     \u001b[90m━━━━━━━━━━━━━━━━━━━━━━━━━━━━━━━━━━━━━━━━\u001b[0m \u001b[32m43.7/43.7 kB\u001b[0m \u001b[31m3.8 MB/s\u001b[0m eta \u001b[36m0:00:00\u001b[0m\n",
            "\u001b[2K     \u001b[90m━━━━━━━━━━━━━━━━━━━━━━━━━━━━━━━━━━━━━━━━\u001b[0m \u001b[32m62.5/62.5 kB\u001b[0m \u001b[31m6.6 MB/s\u001b[0m eta \u001b[36m0:00:00\u001b[0m\n",
            "\u001b[2K     \u001b[90m━━━━━━━━━━━━━━━━━━━━━━━━━━━━━━━━━━━━━━━━\u001b[0m \u001b[32m300.4/300.4 kB\u001b[0m \u001b[31m24.9 MB/s\u001b[0m eta \u001b[36m0:00:00\u001b[0m\n",
            "\u001b[2K     \u001b[90m━━━━━━━━━━━━━━━━━━━━━━━━━━━━━━━━━━━━━━━━\u001b[0m \u001b[32m49.4/49.4 kB\u001b[0m \u001b[31m5.1 MB/s\u001b[0m eta \u001b[36m0:00:00\u001b[0m\n",
            "\u001b[?25h\u001b[31mERROR: pip's dependency resolver does not currently take into account all the packages that are installed. This behaviour is the source of the following dependency conflicts.\n",
            "llmx 0.0.15a0 requires cohere, which is not installed.\u001b[0m\u001b[31m\n",
            "\u001b[0m"
          ]
        }
      ]
    },
    {
      "cell_type": "code",
      "source": [
        "# Importando o dataset de validação\n",
        "import pandas as pd\n",
        "from google.colab import drive\n",
        "drive.mount(\"/drive\")\n",
        "\n",
        "validacao = pd.read_csv(\"/drive/MyDrive/Chatbot/validacao.csv\", dtype=str)"
      ],
      "metadata": {
        "id": "icsSO7SxFrQY",
        "colab": {
          "base_uri": "https://localhost:8080/"
        },
        "outputId": "0403c4a8-6345-42e9-ba10-8cd2fdcff4b5"
      },
      "execution_count": 2,
      "outputs": [
        {
          "output_type": "stream",
          "name": "stdout",
          "text": [
            "Mounted at /drive\n"
          ]
        }
      ]
    },
    {
      "cell_type": "markdown",
      "source": [
        "## Criando o template do prompt"
      ],
      "metadata": {
        "id": "2vVK2CCLP2pd"
      }
    },
    {
      "cell_type": "code",
      "source": [
        "from langchain.prompts import PromptTemplate\n",
        "from langchain.chains.question_answering import load_qa_chain\n",
        "from langchain.llms import OpenAI\n",
        "import os\n",
        "import getpass\n",
        "\n",
        "os.environ[\"OPENAI_API_KEY\"] = getpass.getpass(\"OpenAI API Key:\")\n",
        "\n",
        "template = \"\"\"Você é um chatbot tendo uma conversa com um humano.\n",
        "Dado as seguintes partes extraídas da resolução do vestibular da Unicamp, crie uma resposta final concisa e direta com o que foi perguntado.\n",
        "Se não for possível responder pelo contexto, diga que não possui a resposta.\n",
        "\n",
        "{context}\n",
        "\n",
        "Human: {human_input}\n",
        "Chatbot:\"\"\"\n",
        "prompt = PromptTemplate(\n",
        "    input_variables=[\"human_input\", \"context\"], template=template\n",
        ")\n",
        "chain = load_qa_chain(\n",
        "    OpenAI(temperature=0), chain_type=\"stuff\", prompt=prompt, verbose=True\n",
        ")"
      ],
      "metadata": {
        "id": "nTuN3vMEP61z",
        "colab": {
          "base_uri": "https://localhost:8080/"
        },
        "outputId": "b02183d5-8ec3-4124-f4ae-65ff89d59876"
      },
      "execution_count": 3,
      "outputs": [
        {
          "name": "stdout",
          "output_type": "stream",
          "text": [
            "OpenAI API Key:··········\n"
          ]
        }
      ]
    },
    {
      "cell_type": "markdown",
      "source": [
        "## Pinecone Retriever"
      ],
      "metadata": {
        "id": "ZMLxZc4qOD4P"
      }
    },
    {
      "cell_type": "code",
      "source": [
        "import pinecone\n",
        "from langchain.vectorstores import Pinecone\n",
        "from langchain.embeddings.openai import OpenAIEmbeddings\n",
        "\n",
        "# Importando as chaves de API necessárias\n",
        "os.environ[\"PINECONE_API_KEY\"] = getpass.getpass(\"Pinecone API Key:\")\n",
        "os.environ[\"PINECONE_ENV\"] = getpass.getpass(\"Pinecone Environment:\")\n",
        "\n",
        "embeddings = OpenAIEmbeddings(openai_api_key=os.getenv(\"OPENAI_API_KEY\"))\n",
        "\n",
        "#Inicializando o Pinecone\n",
        "pinecone.init(\n",
        "    api_key=os.getenv(\"PINECONE_API_KEY\"),\n",
        "    environment=os.getenv(\"PINECONE_ENV\"),\n",
        ")\n",
        "\n",
        "retriever = Pinecone.from_existing_index(\"unicampresolucao\", embeddings).as_retriever()"
      ],
      "metadata": {
        "colab": {
          "base_uri": "https://localhost:8080/"
        },
        "id": "YTFXwxQpOHtr",
        "outputId": "68e32fb9-33ef-48cc-9fdc-115a335ad4e5"
      },
      "execution_count": 4,
      "outputs": [
        {
          "output_type": "stream",
          "name": "stderr",
          "text": [
            "/usr/local/lib/python3.10/dist-packages/pinecone/index.py:4: TqdmExperimentalWarning: Using `tqdm.autonotebook.tqdm` in notebook mode. Use `tqdm.tqdm` instead to force console mode (e.g. in jupyter console)\n",
            "  from tqdm.autonotebook import tqdm\n"
          ]
        },
        {
          "name": "stdout",
          "output_type": "stream",
          "text": [
            "Pinecone API Key:··········\n",
            "Pinecone Environment:··········\n"
          ]
        }
      ]
    },
    {
      "cell_type": "markdown",
      "source": [
        "## CompressionRetriever"
      ],
      "metadata": {
        "id": "pkS6vvGwOvao"
      }
    },
    {
      "cell_type": "code",
      "source": [
        "from langchain.chat_models import ChatOpenAI\n",
        "from langchain.document_transformers import EmbeddingsRedundantFilter\n",
        "from langchain.retrievers.document_compressors import DocumentCompressorPipeline, EmbeddingsFilter\n",
        "from langchain.retrievers import ContextualCompressionRetriever\n",
        "from langchain.text_splitter import CharacterTextSplitter\n",
        "\n",
        "#Compressão dos documentos para filtrar partes relevantes\n",
        "splitter = CharacterTextSplitter(chunk_size=300, chunk_overlap=120, separator=\". \") #Divide os documentos encontrados em partes menores\n",
        "redundant_filter = EmbeddingsRedundantFilter(embeddings=embeddings) #Filtra documentos redundantes\n",
        "relevant_filter = EmbeddingsFilter(embeddings=embeddings, similarity_threshold=0.76) #Filtra somente documentos relevantes pra consulta com base no limite de decisão\n",
        "pipeline_compressor = DocumentCompressorPipeline(\n",
        "    transformers=[splitter, redundant_filter, relevant_filter]\n",
        ")\n",
        "\n",
        "compression_retriever = ContextualCompressionRetriever(base_compressor=pipeline_compressor, base_retriever=retriever)"
      ],
      "metadata": {
        "id": "gnDAMgAlO7kA"
      },
      "execution_count": 5,
      "outputs": []
    },
    {
      "cell_type": "markdown",
      "source": [
        "## MultyQueryRetriever"
      ],
      "metadata": {
        "id": "i5VQVcnPb7eO"
      }
    },
    {
      "cell_type": "code",
      "source": [
        "from langchain.retrievers.multi_query import MultiQueryRetriever\n",
        "\n",
        "llm = ChatOpenAI(temperature=0)\n",
        "retriever_from_llm = MultiQueryRetriever.from_llm(\n",
        "    retriever=retriever, llm=llm\n",
        ")\n",
        "\n",
        "# Set logging for the queries\n",
        "import logging\n",
        "\n",
        "logging.basicConfig()\n",
        "logging.getLogger(\"langchain.retrievers.multi_query\").setLevel(logging.INFO)\n",
        "\n",
        "#unique_docs = retriever_from_llm.get_relevant_documents(query=question)"
      ],
      "metadata": {
        "id": "15Mv3E17cNI7"
      },
      "execution_count": 6,
      "outputs": []
    },
    {
      "cell_type": "markdown",
      "source": [
        "## Consultando documentos"
      ],
      "metadata": {
        "id": "82F83Fj4R1HB"
      }
    },
    {
      "cell_type": "markdown",
      "source": [
        "Utilizando os retrievers para acessar os documentos relevantes e armazenando-os para eventual geração de resposta"
      ],
      "metadata": {
        "id": "Z-deb69uWHle"
      }
    },
    {
      "cell_type": "code",
      "source": [
        "import time\n",
        "\n",
        "pinecone_docs = []\n",
        "compression_docs = []\n",
        "multyquery_docs = []\n",
        "\n",
        "for i in range(21):\n",
        "  #Para cada query dos dados de validação é criada uma consulta utilizando os diferentes retrievers\n",
        "  query = validacao.loc[i, \"query\"]\n",
        "\n",
        "  doc1 = retriever.get_relevant_documents(query, top_k=10)\n",
        "  doc1 = \"\\n\\n\".join([d.page_content for d in doc1])\n",
        "  pinecone_docs.append(doc1)\n",
        "  time.sleep(30)\n",
        "\n",
        "  doc2 = compression_retriever.get_relevant_documents(query, top_k=10)\n",
        "  doc2 = \"\\n\\n\".join([d.page_content for d in doc2])\n",
        "  compression_docs.append(doc2)\n",
        "  time.sleep(30)\n",
        "\n",
        "  doc3 = retriever_from_llm.get_relevant_documents(query, top_k=10)\n",
        "  doc3 = \"\\n\\n\".join([d.page_content for d in doc3])\n",
        "  multyquery_docs.append(doc3)\n",
        "  time.sleep(30)\n",
        "\n",
        "#Os documentos encontrados são armazenados e exportados pra um arquivo csv\n",
        "documents = pd.DataFrame([pinecone_docs,compression_docs,multyquery_docs])\n",
        "documents.to_csv(\"/drive/MyDrive/Chatbot/docs.csv\", index=False)"
      ],
      "metadata": {
        "id": "B0fQG196SrVz"
      },
      "execution_count": null,
      "outputs": []
    },
    {
      "cell_type": "code",
      "source": [
        "documents = pd.read_csv(\"/drive/MyDrive/Chatbot/docs.csv\", dtype=str)\n",
        "documents = documents.T\n",
        "documents.columns = [\"pinecone\",\"compression\",\"multyquery\"]"
      ],
      "metadata": {
        "id": "pzpx6xy0tKnO"
      },
      "execution_count": 13,
      "outputs": []
    },
    {
      "cell_type": "markdown",
      "source": [
        "## Gerando respostas com base nos documentos recuperados"
      ],
      "metadata": {
        "id": "bGRLiOcnt3lJ"
      }
    },
    {
      "cell_type": "code",
      "source": [
        "import time\n",
        "\n",
        "answer1 = []\n",
        "answer2 = []\n",
        "answer3 = []\n",
        "for i in range(13):\n",
        "  #Para cada conjunto de documento recuperado vai ser gerada uma resposta diferente\n",
        "  query = validacao.loc[i, \"query\"]\n",
        "\n",
        "  docs1 = documents[\"pinecone\"][i]\n",
        "  docs2 = documents[\"compression\"][i]\n",
        "  docs3 = documents[\"multyquery\"][i]\n",
        "\n",
        "  response1 = chain({\"input_documents\": text_to_docs(docs1), \"human_input\": query})\n",
        "  answer1.append(response1['output_text'])\n",
        "  time.sleep(15)\n",
        "\n",
        "  response2 = chain({\"input_documents\": text_to_docs(docs2), \"human_input\": query})\n",
        "  answer2.append(response2['output_text'])\n",
        "  time.sleep(15)\n",
        "\n",
        "  response3 = chain({\"input_documents\": text_to_docs(docs3), \"human_input\": query})\n",
        "  answer3.append(response3['output_text'])\n",
        "  time.sleep(15)"
      ],
      "metadata": {
        "colab": {
          "base_uri": "https://localhost:8080/"
        },
        "id": "0MfC7TMpuCSI",
        "outputId": "d5e1a1f6-e83c-416d-c4fb-2b26653b00f3"
      },
      "execution_count": 31,
      "outputs": [
        {
          "metadata": {
            "tags": null
          },
          "name": "stdout",
          "output_type": "stream",
          "text": [
            "\n",
            "\n",
            "\u001b[1m> Entering new StuffDocumentsChain chain...\u001b[0m\n",
            "\n",
            "\n",
            "\u001b[1m> Entering new LLMChain chain...\u001b[0m\n",
            "Prompt after formatting:\n",
            "\u001b[32;1m\u001b[1;3mVocê é um chatbot tendo uma conversa com um humano.\n",
            "Dado as seguintes partes extraídas da resolução do vestibular da Unicamp, crie uma resposta final concisa e direta com o que foi perguntado.\n",
            "Se não for possível responder pelo contexto, diga que não possui a resposta.\n",
            "\n",
            "Cursos de graduação por área de realização da prova do Vestibular Unicamp.\n",
            "\n",
            "A partir da lista de obras apresentadas a cada ano pelo Vestibular Unicamp, espera-se que o candidato seja capaz de mobilizar um conjunto de conhecimentos apreendidos ao longo do ensino médio a fim de desenvolver as habilidades próprias da leitura literária. Esses conhecimentos podem ser expressos por meio de alguns conceitos fundamentais que dizem respeito aos elementos que constituem uma obra\n",
            "\n",
            "Para todas as opções a Prova de Habilidades Específicas terá peso 3 (três), conforme Resolução do Vestibular Unicamp 2024\n",
            "A nota da primeira fase será calculada conforme estabelecido no Artigo 19 da Resolução do Vestibular Unicamp 2024.  \n",
            "IV. Conteúdo das provas por curso  \n",
            "Partituras e um arquivo de áudio estão disponíveis na página da Comvest (www.comvest.unicamp.br).\n",
            "\n",
            "A matrícula dos(as) candidatos(as) convocados(as) para os cursos de graduação da Unicamp cabe exclusivamente à Diretoria Acadêmica – DAC, exigindo-se, neste ato, o upload dos documentos relacionados nos incisos deste artigo no Sistema de Gestão Acadêmica (SIGA).  \n",
            "I. Para todos(as) os(as) candidatos(as):\n",
            "a) Diploma ou Certificado de Conclusão do ensino médio ou equivalente.\n",
            "\n",
            "Human: Qual a relação dos livros que serão pedidos no Vestibular da Unicamp?\n",
            "Chatbot:\u001b[0m\n",
            "\n",
            "\u001b[1m> Finished chain.\u001b[0m\n",
            "\n",
            "\u001b[1m> Finished chain.\u001b[0m\n",
            "\n",
            "\n",
            "\u001b[1m> Entering new StuffDocumentsChain chain...\u001b[0m\n",
            "\n",
            "\n",
            "\u001b[1m> Entering new LLMChain chain...\u001b[0m\n",
            "Prompt after formatting:\n",
            "\u001b[32;1m\u001b[1;3mVocê é um chatbot tendo uma conversa com um humano.\n",
            "Dado as seguintes partes extraídas da resolução do vestibular da Unicamp, crie uma resposta final concisa e direta com o que foi perguntado.\n",
            "Se não for possível responder pelo contexto, diga que não possui a resposta.\n",
            "\n",
            "Cursos de graduação por área de realização da prova do Vestibular Unicamp.\n",
            "\n",
            "A partir da lista de obras apresentadas a cada ano pelo Vestibular Unicamp, espera-se que o candidato seja capaz de mobilizar um conjunto de conhecimentos apreendidos ao longo do ensino médio a fim de desenvolver as habilidades próprias da leitura literária\n",
            "\n",
            "Para todas as opções a Prova de Habilidades Específicas terá peso 3 (três), conforme Resolução do Vestibular Unicamp 2024\n",
            "A nota da primeira fase será calculada conforme estabelecido no Artigo 19 da Resolução do Vestibular Unicamp 2024.  \n",
            "IV\n",
            "\n",
            "A matrícula dos(as) candidatos(as) convocados(as) para os cursos de graduação da Unicamp cabe exclusivamente à Diretoria Acadêmica – DAC, exigindo-se, neste ato, o upload dos documentos relacionados nos incisos deste artigo no Sistema de Gestão Acadêmica (SIGA).  \n",
            "I\n",
            "\n",
            "IV. Conteúdo das provas por curso  \n",
            "Partituras e um arquivo de áudio estão disponíveis na página da Comvest (www.comvest.unicamp.br).\n",
            "\n",
            "I. Para todos(as) os(as) candidatos(as):\n",
            "a) Diploma ou Certificado de Conclusão do ensino médio ou equivalente.\n",
            "\n",
            "Esses conhecimentos podem ser expressos por meio de alguns conceitos fundamentais que dizem respeito aos elementos que constituem uma obra\n",
            "\n",
            "Human: Qual a relação dos livros que serão pedidos no Vestibular da Unicamp?\n",
            "Chatbot:\u001b[0m\n",
            "\n",
            "\u001b[1m> Finished chain.\u001b[0m\n",
            "\n",
            "\u001b[1m> Finished chain.\u001b[0m\n",
            "\n",
            "\n",
            "\u001b[1m> Entering new StuffDocumentsChain chain...\u001b[0m\n",
            "\n",
            "\n",
            "\u001b[1m> Entering new LLMChain chain...\u001b[0m\n",
            "Prompt after formatting:\n",
            "\u001b[32;1m\u001b[1;3mVocê é um chatbot tendo uma conversa com um humano.\n",
            "Dado as seguintes partes extraídas da resolução do vestibular da Unicamp, crie uma resposta final concisa e direta com o que foi perguntado.\n",
            "Se não for possível responder pelo contexto, diga que não possui a resposta.\n",
            "\n",
            "Cursos de graduação por área de realização da prova do Vestibular Unicamp.\n",
            "\n",
            "A partir da lista de obras apresentadas a cada ano pelo Vestibular Unicamp, espera-se que o candidato seja capaz de mobilizar um conjunto de conhecimentos apreendidos ao longo do ensino médio a fim de desenvolver as habilidades próprias da leitura literária. Esses conhecimentos podem ser expressos por meio de alguns conceitos fundamentais que dizem respeito aos elementos que constituem uma obra\n",
            "\n",
            "A matrícula dos(as) candidatos(as) convocados(as) para os cursos de graduação da Unicamp cabe exclusivamente à Diretoria Acadêmica – DAC, exigindo-se, neste ato, o upload dos documentos relacionados nos incisos deste artigo no Sistema de Gestão Acadêmica (SIGA).  \n",
            "I. Para todos(as) os(as) candidatos(as):\n",
            "a) Diploma ou Certificado de Conclusão do ensino médio ou equivalente.\n",
            "\n",
            "As questões de Matemática do Vestibular Unicamp, tanto na primeira quanto na segunda fase, procuram identificar nos candidatos um conhecimento crítico e integrado da Matemática do ensino fundamental e do ensino médio. A leitura atenta dos enunciados das questões, a formulação correta dos problemas matemáticos associados, a elaboração cuidadosa dos cálculos, o uso correto das unidades, a escolha da\n",
            "\n",
            "por meio de alguns conceitos fundamentais que dizem respeito aos elementos que constituem uma obra literária e que produzem seu efeito sobre o leitor. O Vestibular Unicamp privilegia a ampliação da experiência de leitura dos estudantes, selecionando, para isso, obras representativas de diferentes gêneros literários dentro dos campos da prosa, da poesia e do teatro.\n",
            "\n",
            "Human: Qual a relação dos livros que serão pedidos no Vestibular da Unicamp?\n",
            "Chatbot:\u001b[0m\n",
            "\n",
            "\u001b[1m> Finished chain.\u001b[0m\n",
            "\n",
            "\u001b[1m> Finished chain.\u001b[0m\n",
            "\n",
            "\n",
            "\u001b[1m> Entering new StuffDocumentsChain chain...\u001b[0m\n",
            "\n",
            "\n",
            "\u001b[1m> Entering new LLMChain chain...\u001b[0m\n",
            "Prompt after formatting:\n",
            "\u001b[32;1m\u001b[1;3mVocê é um chatbot tendo uma conversa com um humano.\n",
            "Dado as seguintes partes extraídas da resolução do vestibular da Unicamp, crie uma resposta final concisa e direta com o que foi perguntado.\n",
            "Se não for possível responder pelo contexto, diga que não possui a resposta.\n",
            "\n",
            "A Taxa de Inscrição para o VU 2024 será de R$ 192,00 (cento e noventa e dois reais).  \n",
            "§1º Não será aceito pedido de devolução do valor da Taxa de Inscrição, ainda que tenha sido pago em valor superior ou em duplicidade.\n",
            "\n",
            "Redução Parcial da Taxa de Inscrição do VU 2024\n",
            "\n",
            "A inscrição no VU 2024, com redução parcial de Taxa de Inscrição, somente se efetivará com a realização do pagamento do valor correspondente a 50% da Taxa de Inscrição.\n",
            "\n",
            "O período para inscrições no VU 2024 será de 31 de julho a 31 de agosto de 2023. A inscrição será feita exclusivamente mediante preenchimento de Formulário de Inscrição na página da Comvest (www.comvest.unicamp.br) e recolhimento do valor da Taxa de Inscrição, por meio de boleto bancário emitido ao final do preenchimento do Formulário de Inscrição.\n",
            "\n",
            "Human: Qual a taxa de inscrição do Vestibular?\n",
            "Chatbot:\u001b[0m\n",
            "\n",
            "\u001b[1m> Finished chain.\u001b[0m\n",
            "\n",
            "\u001b[1m> Finished chain.\u001b[0m\n",
            "\n",
            "\n",
            "\u001b[1m> Entering new StuffDocumentsChain chain...\u001b[0m\n",
            "\n",
            "\n",
            "\u001b[1m> Entering new LLMChain chain...\u001b[0m\n",
            "Prompt after formatting:\n",
            "\u001b[32;1m\u001b[1;3mVocê é um chatbot tendo uma conversa com um humano.\n",
            "Dado as seguintes partes extraídas da resolução do vestibular da Unicamp, crie uma resposta final concisa e direta com o que foi perguntado.\n",
            "Se não for possível responder pelo contexto, diga que não possui a resposta.\n",
            "\n",
            "A Taxa de Inscrição para o VU 2024 será de R$ 192,00 (cento e noventa e dois reais).  \n",
            "§1º Não será aceito pedido de devolução do valor da Taxa de Inscrição, ainda que tenha sido pago em valor superior ou em duplicidade.\n",
            "\n",
            "Redução Parcial da Taxa de Inscrição do VU 2024\n",
            "\n",
            "A inscrição no VU 2024, com redução parcial de Taxa de Inscrição, somente se efetivará com a realização do pagamento do valor correspondente a 50% da Taxa de Inscrição.\n",
            "\n",
            "A inscrição será feita exclusivamente mediante preenchimento de Formulário de Inscrição na página da Comvest (www.comvest.unicamp.br) e recolhimento do valor da Taxa de Inscrição, por meio de boleto bancário emitido ao final do preenchimento do Formulário de Inscrição.\n",
            "\n",
            "O período para inscrições no VU 2024 será de 31 de julho a 31 de agosto de 2023\n",
            "\n",
            "Human: Qual a taxa de inscrição do Vestibular?\n",
            "Chatbot:\u001b[0m\n",
            "\n",
            "\u001b[1m> Finished chain.\u001b[0m\n",
            "\n",
            "\u001b[1m> Finished chain.\u001b[0m\n",
            "\n",
            "\n",
            "\u001b[1m> Entering new StuffDocumentsChain chain...\u001b[0m\n",
            "\n",
            "\n",
            "\u001b[1m> Entering new LLMChain chain...\u001b[0m\n",
            "Prompt after formatting:\n",
            "\u001b[32;1m\u001b[1;3mVocê é um chatbot tendo uma conversa com um humano.\n",
            "Dado as seguintes partes extraídas da resolução do vestibular da Unicamp, crie uma resposta final concisa e direta com o que foi perguntado.\n",
            "Se não for possível responder pelo contexto, diga que não possui a resposta.\n",
            "\n",
            "A Taxa de Inscrição para o VU 2024 será de R$ 192,00 (cento e noventa e dois reais).  \n",
            "§1º Não será aceito pedido de devolução do valor da Taxa de Inscrição, ainda que tenha sido pago em valor superior ou em duplicidade.\n",
            "\n",
            "O período para inscrições no VU 2024 será de 31 de julho a 31 de agosto de 2023. A inscrição será feita exclusivamente mediante preenchimento de Formulário de Inscrição na página da Comvest (www.comvest.unicamp.br) e recolhimento do valor da Taxa de Inscrição, por meio de boleto bancário emitido ao final do preenchimento do Formulário de Inscrição.\n",
            "\n",
            "A inscrição no VU 2024, com redução parcial de Taxa de Inscrição, somente se efetivará com a realização do pagamento do valor correspondente a 50% da Taxa de Inscrição.\n",
            "\n",
            "§4º O processo de inscrição somente será validado com o recolhimento da Taxa de Inscrição. A situação da inscrição deverá ser consultada pelo(a) candidato(a) na página da Comvest (www.comvest.unicamp.br) a partir de 72 horas após o pagamento da taxa. Qualquer irregularidade deverá ser comunicada imediatamente à Comvest.\n",
            "\n",
            "Redução Parcial da Taxa de Inscrição do VU 2024\n",
            "\n",
            "§2º No período compreendido entre 9 horas do dia 02 de agosto e 17 horas do dia 04 de agosto de 2023, a Comvest receberá solicitações de redução parcial da Taxa de Inscrição do VU 2024, prevista no caput, no valor de 50%, nos termos da Lei estadual nº 12.782, de 20 de dezembro de 2007. Os requisitos, a documentação necessária e as demais orientações estão descritas no Anexo VII.\n",
            "\n",
            "§3º Os(as) candidatos(as) contemplados(as) com a isenção da Taxa de Inscrição no Programa de Isenção de Pagamento da Taxa de Inscrição para o Ingresso Unicamp 2024 não estão automaticamente inscritos(as) no VU 2024 e devem fazer a inscrição na página da Comvest no período estipulado no artigo 13.\n",
            "\n",
            "Human: Qual a taxa de inscrição do Vestibular?\n",
            "Chatbot:\u001b[0m\n",
            "\n",
            "\u001b[1m> Finished chain.\u001b[0m\n",
            "\n",
            "\u001b[1m> Finished chain.\u001b[0m\n",
            "\n",
            "\n",
            "\u001b[1m> Entering new StuffDocumentsChain chain...\u001b[0m\n",
            "\n",
            "\n",
            "\u001b[1m> Entering new LLMChain chain...\u001b[0m\n",
            "Prompt after formatting:\n",
            "\u001b[32;1m\u001b[1;3mVocê é um chatbot tendo uma conversa com um humano.\n",
            "Dado as seguintes partes extraídas da resolução do vestibular da Unicamp, crie uma resposta final concisa e direta com o que foi perguntado.\n",
            "Se não for possível responder pelo contexto, diga que não possui a resposta.\n",
            "\n",
            "§5º As provas para os(as) candidatos(as) com deficiência ou em condições que exijam recursos específicos que tiveram a solicitação deferida serão realizadas em todas as cidades em que forem aplicadas as provas do Vestibular.\n",
            "\n",
            "Candidatos(as) com deficiência ou em condições que exijam recursos específicos para realizar as provas do VU 2024\n",
            "\n",
            "As provas do Vestibular Unicamp apresentam questões que solicitam do candidato a integração dos conceitos, da terminologia, da metodologia, dos procedimentos e das informações correspondentes às diversas áreas do conhecimento, dentro dos parâmetros e do contexto da educação básica. Além disso, o Vestibular Unicamp também avalia a capacidade analítica e de abstração dos candidatos, propondo, como\n",
            "\n",
            "Os(as) candidatos(as) com deficiência ou em condições que exijam recursos específicos para realizar as provas do VU 2024 devem informar suas necessidades no Formulário de Inscrição. A documentação necessária para a solicitação e as formas de atendimento estão descritas no Anexo VI.\n",
            "\n",
            "Human: O Vestibular Unicamp tem provas e locais adaptados para candidatos com deficiência(s)?\n",
            "Chatbot:\u001b[0m\n",
            "\n",
            "\u001b[1m> Finished chain.\u001b[0m\n",
            "\n",
            "\u001b[1m> Finished chain.\u001b[0m\n",
            "\n",
            "\n",
            "\u001b[1m> Entering new StuffDocumentsChain chain...\u001b[0m\n",
            "\n",
            "\n",
            "\u001b[1m> Entering new LLMChain chain...\u001b[0m\n",
            "Prompt after formatting:\n",
            "\u001b[32;1m\u001b[1;3mVocê é um chatbot tendo uma conversa com um humano.\n",
            "Dado as seguintes partes extraídas da resolução do vestibular da Unicamp, crie uma resposta final concisa e direta com o que foi perguntado.\n",
            "Se não for possível responder pelo contexto, diga que não possui a resposta.\n",
            "\n",
            "§5º As provas para os(as) candidatos(as) com deficiência ou em condições que exijam recursos específicos que tiveram a solicitação deferida serão realizadas em todas as cidades em que forem aplicadas as provas do Vestibular.\n",
            "\n",
            "As provas do Vestibular Unicamp apresentam questões que solicitam do candidato a integração dos conceitos, da terminologia, da metodologia, dos procedimentos e das informações correspondentes às diversas áreas do conhecimento, dentro dos parâmetros e do contexto da educação básica\n",
            "\n",
            "Os(as) candidatos(as) com deficiência ou em condições que exijam recursos específicos para realizar as provas do VU 2024 devem informar suas necessidades no Formulário de Inscrição. A documentação necessária para a solicitação e as formas de atendimento estão descritas no Anexo VI.\n",
            "\n",
            "Além disso, o Vestibular Unicamp também avalia a capacidade analítica e de abstração dos candidatos, propondo, como\n",
            "\n",
            "Human: O Vestibular Unicamp tem provas e locais adaptados para candidatos com deficiência(s)?\n",
            "Chatbot:\u001b[0m\n",
            "\n",
            "\u001b[1m> Finished chain.\u001b[0m\n",
            "\n",
            "\u001b[1m> Finished chain.\u001b[0m\n",
            "\n",
            "\n",
            "\u001b[1m> Entering new StuffDocumentsChain chain...\u001b[0m\n",
            "\n",
            "\n",
            "\u001b[1m> Entering new LLMChain chain...\u001b[0m\n",
            "Prompt after formatting:\n",
            "\u001b[32;1m\u001b[1;3mVocê é um chatbot tendo uma conversa com um humano.\n",
            "Dado as seguintes partes extraídas da resolução do vestibular da Unicamp, crie uma resposta final concisa e direta com o que foi perguntado.\n",
            "Se não for possível responder pelo contexto, diga que não possui a resposta.\n",
            "\n",
            "§5º As provas para os(as) candidatos(as) com deficiência ou em condições que exijam recursos específicos que tiveram a solicitação deferida serão realizadas em todas as cidades em que forem aplicadas as provas do Vestibular.\n",
            "\n",
            "Candidatos(as) com deficiência ou em condições que exijam recursos específicos para realizar as provas do VU 2024\n",
            "\n",
            "§12 Os(as) candidatos(as) com deficiência ou em condições que exijam recursos específicos poderão ser atendidos(as), a partir de critérios definidos pela Comvest, das seguintes formas:  \n",
            "Através de caderno de questões com letra ampliada.\n",
            "Com auxílio para transcrição.\n",
            "\n",
            "Os(as) candidatos(as) com deficiência ou em condições que exijam recursos específicos para realizar as provas do VU 2024 devem informar suas necessidades no Formulário de Inscrição. A documentação necessária para a solicitação e as formas de atendimento estão descritas no Anexo VI.\n",
            "\n",
            "Human: O Vestibular Unicamp tem provas e locais adaptados para candidatos com deficiência(s)?\n",
            "Chatbot:\u001b[0m\n",
            "\n",
            "\u001b[1m> Finished chain.\u001b[0m\n",
            "\n",
            "\u001b[1m> Finished chain.\u001b[0m\n",
            "\n",
            "\n",
            "\u001b[1m> Entering new StuffDocumentsChain chain...\u001b[0m\n",
            "\n",
            "\n",
            "\u001b[1m> Entering new LLMChain chain...\u001b[0m\n",
            "Prompt after formatting:\n",
            "\u001b[32;1m\u001b[1;3mVocê é um chatbot tendo uma conversa com um humano.\n",
            "Dado as seguintes partes extraídas da resolução do vestibular da Unicamp, crie uma resposta final concisa e direta com o que foi perguntado.\n",
            "Se não for possível responder pelo contexto, diga que não possui a resposta.\n",
            "\n",
            "IV. 115 vagas oferecidas pelo Edital de olimpíadas científicas e competições de conhecimento de áreas específicas. Haverá, ainda, 14 vagas adicionais nesse sistema de ingresso, conforme Edital a ser publicado, respeitando os princípios da Deliberação CONSU-A-032/2017.\n",
            "\n",
            "O curso de Ciências do Esporte (Integral) possui um total de 60 vagas regulares, das quais 46 são oferecidas pelo vestibular da Unicamp. O número de vagas para ampla concorrência pode variar entre 30 e 37 vagas. O número de vagas reservadas para candidatos(as) autodeclarados(as) pretos(as) e pardos(as) pode variar entre 9 e 16.\n",
            "\n",
            "O(a) candidato(a) que participar de mais de um dos sistemas de seleção previstos na Deliberação CONSU-A-032/2017 (Vestibular Unicamp, Edital ENEM-Unicamp, Vestibular Indígena, Edital “Vagas Olímpicas”) será excluído(a), automaticamente, das vagas em outros sistemas quando efetivar a sua matrícula no sistema no qual foi convocado(a).\n",
            "\n",
            "Cursos de graduação por área de realização da prova do Vestibular Unicamp.\n",
            "\n",
            "Human: A Unicamp terá vagas exclusivas para medalhistas em olimpíadas de conhecimento?\n",
            "Chatbot:\u001b[0m\n",
            "\n",
            "\u001b[1m> Finished chain.\u001b[0m\n",
            "\n",
            "\u001b[1m> Finished chain.\u001b[0m\n",
            "\n",
            "\n",
            "\u001b[1m> Entering new StuffDocumentsChain chain...\u001b[0m\n",
            "\n",
            "\n",
            "\u001b[1m> Entering new LLMChain chain...\u001b[0m\n",
            "Prompt after formatting:\n",
            "\u001b[32;1m\u001b[1;3mVocê é um chatbot tendo uma conversa com um humano.\n",
            "Dado as seguintes partes extraídas da resolução do vestibular da Unicamp, crie uma resposta final concisa e direta com o que foi perguntado.\n",
            "Se não for possível responder pelo contexto, diga que não possui a resposta.\n",
            "\n",
            "IV. 115 vagas oferecidas pelo Edital de olimpíadas científicas e competições de conhecimento de áreas específicas. Haverá, ainda, 14 vagas adicionais nesse sistema de ingresso, conforme Edital a ser publicado, respeitando os princípios da Deliberação CONSU-A-032/2017.\n",
            "\n",
            "O(a) candidato(a) que participar de mais de um dos sistemas de seleção previstos na Deliberação CONSU-A-032/2017 (Vestibular Unicamp, Edital ENEM-Unicamp, Vestibular Indígena, Edital “Vagas Olímpicas”) será excluído(a), automaticamente, das vagas em outros sistemas quando efetivar a sua matrícula no sistema no qual foi convocado(a).\n",
            "\n",
            "O curso de Ciências do Esporte (Integral) possui um total de 60 vagas regulares, das quais 46 são oferecidas pelo vestibular da Unicamp. O número de vagas para ampla concorrência pode variar entre 30 e 37 vagas\n",
            "\n",
            "Cursos de graduação por área de realização da prova do Vestibular Unicamp.\n",
            "\n",
            "O número de vagas para ampla concorrência pode variar entre 30 e 37 vagas. O número de vagas reservadas para candidatos(as) autodeclarados(as) pretos(as) e pardos(as) pode variar entre 9 e 16.\n",
            "\n",
            "Human: A Unicamp terá vagas exclusivas para medalhistas em olimpíadas de conhecimento?\n",
            "Chatbot:\u001b[0m\n",
            "\n",
            "\u001b[1m> Finished chain.\u001b[0m\n",
            "\n",
            "\u001b[1m> Finished chain.\u001b[0m\n",
            "\n",
            "\n",
            "\u001b[1m> Entering new StuffDocumentsChain chain...\u001b[0m\n",
            "\n",
            "\n",
            "\u001b[1m> Entering new LLMChain chain...\u001b[0m\n",
            "Prompt after formatting:\n",
            "\u001b[32;1m\u001b[1;3mVocê é um chatbot tendo uma conversa com um humano.\n",
            "Dado as seguintes partes extraídas da resolução do vestibular da Unicamp, crie uma resposta final concisa e direta com o que foi perguntado.\n",
            "Se não for possível responder pelo contexto, diga que não possui a resposta.\n",
            "\n",
            "IV. 115 vagas oferecidas pelo Edital de olimpíadas científicas e competições de conhecimento de áreas específicas. Haverá, ainda, 14 vagas adicionais nesse sistema de ingresso, conforme Edital a ser publicado, respeitando os princípios da Deliberação CONSU-A-032/2017.\n",
            "\n",
            "O(a) candidato(a) que participar de mais de um dos sistemas de seleção previstos na Deliberação CONSU-A-032/2017 (Vestibular Unicamp, Edital ENEM-Unicamp, Vestibular Indígena, Edital “Vagas Olímpicas”) será excluído(a), automaticamente, das vagas em outros sistemas quando efetivar a sua matrícula no sistema no qual foi convocado(a).\n",
            "\n",
            "O VU 2024 tem por objetivos:  \n",
            "I. Classificar e selecionar candidatos(as) adequados(as) ao perfil de estudantes desejado pela Unicamp.\n",
            "II. Verificar o domínio do conhecimento desenvolvido pelos(as) candidatos(as) nas diversas formas de educação do Ensino Médio.\n",
            "III. Avaliar a aptidão e o potencial dos candidatos(as) para o curso superior em que pretendem ingressar.\n",
            "\n",
            "O curso de Ciências do Esporte (Integral) possui um total de 60 vagas regulares, das quais 46 são oferecidas pelo vestibular da Unicamp. O número de vagas para ampla concorrência pode variar entre 30 e 37 vagas. O número de vagas reservadas para candidatos(as) autodeclarados(as) pretos(as) e pardos(as) pode variar entre 9 e 16.\n",
            "\n",
            "Cursos de graduação por área de realização da prova do Vestibular Unicamp.\n",
            "\n",
            "Unicamp também avalia a capacidade analítica e de abstração dos candidatos, propondo, como foco, a capacidade de utilizar o conhecimento de forma integrada para a solução de problemas em diversos níveis, desde aplicações a questões do cotidiano até problemas relacionados com a estrutura do conhecimento nas diversas disciplinas.\n",
            "\n",
            "Human: A Unicamp terá vagas exclusivas para medalhistas em olimpíadas de conhecimento?\n",
            "Chatbot:\u001b[0m\n",
            "\n",
            "\u001b[1m> Finished chain.\u001b[0m\n",
            "\n",
            "\u001b[1m> Finished chain.\u001b[0m\n",
            "\n",
            "\n",
            "\u001b[1m> Entering new StuffDocumentsChain chain...\u001b[0m\n",
            "\n",
            "\n",
            "\u001b[1m> Entering new LLMChain chain...\u001b[0m\n",
            "Prompt after formatting:\n",
            "\u001b[32;1m\u001b[1;3mVocê é um chatbot tendo uma conversa com um humano.\n",
            "Dado as seguintes partes extraídas da resolução do vestibular da Unicamp, crie uma resposta final concisa e direta com o que foi perguntado.\n",
            "Se não for possível responder pelo contexto, diga que não possui a resposta.\n",
            "\n",
            "Cursos de graduação por área de realização da prova do Vestibular Unicamp.\n",
            "\n",
            "III. 325 vagas oferecidas pelo Provão Paulista 2024.\n",
            "IV. 49 vagas oferecidas pelo Vestibular Indígena (VI) 2024. O Vestibular Indígena terá ainda 81 vagas adicionais, conforme Edital a ser publicado, respeitando os princípios da Deliberação CONSU-A-032/2017.\n",
            "\n",
            "As provas de Habilidades Específicas para o curso de Dança serão realizadas somente em Campinas de 07 a 09 de dezembro de 2023.  \n",
            "Os horários serão divulgados na página eletrônica da Comvest (www.comvest.unicamp.br), a partir do dia 27/11/2023.\n",
            "\n",
            "As provas de Habilidades Específicas para o curso de Artes Visuais serão realizadas somente em Campinas, de 07 a 09 de dezembro de 2023.  \n",
            "Os horários serão divulgados na página eletrônica da Comvest (www.comvest.unicamp.br), a partir do dia 27/11/2023.\n",
            "\n",
            "Human: A Unicamp terá provas diferenciadas para índios?\n",
            "Chatbot:\u001b[0m\n",
            "\n",
            "\u001b[1m> Finished chain.\u001b[0m\n",
            "\n",
            "\u001b[1m> Finished chain.\u001b[0m\n"
          ]
        },
        {
          "metadata": {
            "tags": null
          },
          "name": "stderr",
          "output_type": "stream",
          "text": [
            "WARNING:langchain.llms.base:Retrying langchain.llms.openai.completion_with_retry.<locals>._completion_with_retry in 4.0 seconds as it raised RateLimitError: Rate limit reached for text-davinci-003 in organization org-rj2M6CdePON1XQETqt9sBhzj on requests per min. Limit: 3 / min. Please try again in 20s. Visit https://platform.openai.com/account/rate-limits to learn more. You can increase your rate limit by adding a payment method to your account at https://platform.openai.com/account/billing..\n"
          ]
        },
        {
          "metadata": {
            "tags": null
          },
          "name": "stdout",
          "output_type": "stream",
          "text": [
            "\n",
            "\n",
            "\u001b[1m> Entering new StuffDocumentsChain chain...\u001b[0m\n",
            "\n",
            "\n",
            "\u001b[1m> Entering new LLMChain chain...\u001b[0m\n",
            "Prompt after formatting:\n",
            "\u001b[32;1m\u001b[1;3mVocê é um chatbot tendo uma conversa com um humano.\n",
            "Dado as seguintes partes extraídas da resolução do vestibular da Unicamp, crie uma resposta final concisa e direta com o que foi perguntado.\n",
            "Se não for possível responder pelo contexto, diga que não possui a resposta.\n",
            "\n",
            "Cursos de graduação por área de realização da prova do Vestibular Unicamp.\n",
            "\n",
            "III. 325 vagas oferecidas pelo Provão Paulista 2024.\n",
            "IV. 49 vagas oferecidas pelo Vestibular Indígena (VI) 2024. O Vestibular Indígena terá ainda 81 vagas adicionais, conforme Edital a ser publicado, respeitando os princípios da Deliberação CONSU-A-032/2017.\n",
            "\n",
            "As provas de Habilidades Específicas para o curso de Artes Visuais serão realizadas somente em Campinas, de 07 a 09 de dezembro de 2023.  \n",
            "Os horários serão divulgados na página eletrônica da Comvest (www.comvest.unicamp.br), a partir do dia 27/11/2023.\n",
            "\n",
            "Human: A Unicamp terá provas diferenciadas para índios?\n",
            "Chatbot:\u001b[0m\n",
            "\n",
            "\u001b[1m> Finished chain.\u001b[0m\n",
            "\n",
            "\u001b[1m> Finished chain.\u001b[0m\n"
          ]
        },
        {
          "metadata": {
            "tags": null
          },
          "name": "stderr",
          "output_type": "stream",
          "text": [
            "WARNING:langchain.llms.base:Retrying langchain.llms.openai.completion_with_retry.<locals>._completion_with_retry in 4.0 seconds as it raised RateLimitError: Rate limit reached for text-davinci-003 in organization org-rj2M6CdePON1XQETqt9sBhzj on requests per min. Limit: 3 / min. Please try again in 20s. Visit https://platform.openai.com/account/rate-limits to learn more. You can increase your rate limit by adding a payment method to your account at https://platform.openai.com/account/billing..\n"
          ]
        },
        {
          "metadata": {
            "tags": null
          },
          "name": "stdout",
          "output_type": "stream",
          "text": [
            "\n",
            "\n",
            "\u001b[1m> Entering new StuffDocumentsChain chain...\u001b[0m\n",
            "\n",
            "\n",
            "\u001b[1m> Entering new LLMChain chain...\u001b[0m\n",
            "Prompt after formatting:\n",
            "\u001b[32;1m\u001b[1;3mVocê é um chatbot tendo uma conversa com um humano.\n",
            "Dado as seguintes partes extraídas da resolução do vestibular da Unicamp, crie uma resposta final concisa e direta com o que foi perguntado.\n",
            "Se não for possível responder pelo contexto, diga que não possui a resposta.\n",
            "\n",
            "§3º Em caso de dúvidas quanto à identificação ou à documentação do(a) candidato(a), a Unicamp poderá requerer laudos de especialistas, incluindo exames grafotécnicos sobre assinaturas, provas ou outros documentos considerados relevantes.\n",
            "\n",
            "A matrícula dos(as) candidatos(as) convocados(as) para os cursos de graduação da Unicamp cabe exclusivamente à Diretoria Acadêmica – DAC, exigindo-se, neste ato, o upload dos documentos relacionados nos incisos deste artigo no Sistema de Gestão Acadêmica (SIGA).  \n",
            "I. Para todos(as) os(as) candidatos(as):\n",
            "a) Diploma ou Certificado de Conclusão do ensino médio ou equivalente.\n",
            "\n",
            "Cursos de graduação por área de realização da prova do Vestibular Unicamp.\n",
            "\n",
            "§7º Candidatos(as) que se submeteram e foram aprovados(as) em comissões de heteroidentificação na Unicamp a partir de 2020 estão dispensados(as) do procedimento de averiguação.\n",
            "\n",
            "III. 325 vagas oferecidas pelo Provão Paulista 2024.\n",
            "IV. 49 vagas oferecidas pelo Vestibular Indígena (VI) 2024. O Vestibular Indígena terá ainda 81 vagas adicionais, conforme Edital a ser publicado, respeitando os princípios da Deliberação CONSU-A-032/2017.\n",
            "\n",
            "O curso de Medicina - Unicamp (Integral) tem como prioritária(s) a(s) seguinte(s) prova(s): Língua Portuguesa e Literaturas de Língua Portuguesa, Biologia, com a nota mínima de 550.\n",
            "A(s) provas de Língua Portuguesa e Literaturas de Língua Portuguesa, Biologia terão peso de valor igual a 3. A(s) provas de Matemática, Química, Interdisciplinar terão peso de valor igual a 2.\n",
            "\n",
            "O(a) candidato(a) que participar de mais de um dos sistemas de seleção previstos na Deliberação CONSU-A-032/2017 (Vestibular Unicamp, Edital ENEM-Unicamp, Vestibular Indígena, Edital “Vagas Olímpicas”) será excluído(a), automaticamente, das vagas em outros sistemas quando efetivar a sua matrícula no sistema no qual foi convocado(a).\n",
            "\n",
            "Unicamp também avalia a capacidade analítica e de abstração dos candidatos, propondo, como foco, a capacidade de utilizar o conhecimento de forma integrada para a solução de problemas em diversos níveis, desde aplicações a questões do cotidiano até problemas relacionados com a estrutura do conhecimento nas diversas disciplinas.\n",
            "\n",
            "que institui a Comissão de Averiguação e estabelece procedimento de heteroidentificação complementar à autodeclaração dos(as) candidatos(as) negros(as) (pretos(as) e pardos(as)) selecionados(as) no sistema de cotas étnico-raciais para vagas reservadas a negros(as) (pretos(as) e pardos(as)) na UNICAMP.\n",
            "\n",
            "Human: A Unicamp terá provas diferenciadas para índios?\n",
            "Chatbot:\u001b[0m\n",
            "\n",
            "\u001b[1m> Finished chain.\u001b[0m\n",
            "\n",
            "\u001b[1m> Finished chain.\u001b[0m\n"
          ]
        },
        {
          "metadata": {
            "tags": null
          },
          "name": "stderr",
          "output_type": "stream",
          "text": [
            "WARNING:langchain.llms.base:Retrying langchain.llms.openai.completion_with_retry.<locals>._completion_with_retry in 4.0 seconds as it raised RateLimitError: Rate limit reached for text-davinci-003 in organization org-rj2M6CdePON1XQETqt9sBhzj on requests per min. Limit: 3 / min. Please try again in 20s. Visit https://platform.openai.com/account/rate-limits to learn more. You can increase your rate limit by adding a payment method to your account at https://platform.openai.com/account/billing..\n"
          ]
        },
        {
          "metadata": {
            "tags": null
          },
          "name": "stdout",
          "output_type": "stream",
          "text": [
            "\n",
            "\n",
            "\u001b[1m> Entering new StuffDocumentsChain chain...\u001b[0m\n",
            "\n",
            "\n",
            "\u001b[1m> Entering new LLMChain chain...\u001b[0m\n",
            "Prompt after formatting:\n",
            "\u001b[32;1m\u001b[1;3mVocê é um chatbot tendo uma conversa com um humano.\n",
            "Dado as seguintes partes extraídas da resolução do vestibular da Unicamp, crie uma resposta final concisa e direta com o que foi perguntado.\n",
            "Se não for possível responder pelo contexto, diga que não possui a resposta.\n",
            "\n",
            "§4º Disputarão as vagas pelo programa de reserva de vagas (cotas) apenas os(as) candidatos(as) autodeclarados(as) pretos(as) e pardos(as) que expressamente optarem pelo mesmo.  \n",
            "§5º As vagas não preenchidas por reserva para autodeclarados(as) pretos(as) e pardos(as) serão ocupadas pelos(as) demais candidatos(as) inscritos(as).\n",
            "\n",
            "Não poderão se beneficiar do PAAIS ou de reserva de vagas (cotas) para autodeclarados(as) pretos(as) e pardos(as) candidatos(as) que já tenham concluído curso de graduação ou pós-graduação em Instituições de Ensino Superior públicas brasileiras (municipais, estaduais ou federais).\n",
            "\n",
            "Para ter direito à ação afirmativa por critério étnico-racial, os(as) estudantes selecionados(as) que concorreram às vagas reservadas aos(às) autodeclarados(as) pretos(as) ou pardos(as) deverão possuir traços fenotípicos que os(as) caracterizem como negro(as), de cor preta ou parda.\n",
            "\n",
            "§1º Os(as) candidatos(as) autodeclarados(as) pretos(as) e pardos(as) concorrerão a uma proporção mínima de 15% das vagas regulares em cada curso ou, se for o caso, até 27,2% das vagas, se houver candidatos(as) de 1ª opção que atendam aos critérios de Nota Mínima de Opção (NMO) do respectivo curso, conforme Tabela apresentada no Anexo III.\n",
            "\n",
            "Human: As cotas são para autodeclarados pretos, mas não para pardos?\n",
            "Chatbot:\u001b[0m\n",
            "\n",
            "\u001b[1m> Finished chain.\u001b[0m\n",
            "\n",
            "\u001b[1m> Finished chain.\u001b[0m\n"
          ]
        },
        {
          "metadata": {
            "tags": null
          },
          "name": "stderr",
          "output_type": "stream",
          "text": [
            "WARNING:langchain.llms.base:Retrying langchain.llms.openai.completion_with_retry.<locals>._completion_with_retry in 4.0 seconds as it raised RateLimitError: Rate limit reached for text-davinci-003 in organization org-rj2M6CdePON1XQETqt9sBhzj on requests per min. Limit: 3 / min. Please try again in 20s. Visit https://platform.openai.com/account/rate-limits to learn more. You can increase your rate limit by adding a payment method to your account at https://platform.openai.com/account/billing..\n"
          ]
        },
        {
          "metadata": {
            "tags": null
          },
          "name": "stdout",
          "output_type": "stream",
          "text": [
            "\n",
            "\n",
            "\u001b[1m> Entering new StuffDocumentsChain chain...\u001b[0m\n",
            "\n",
            "\n",
            "\u001b[1m> Entering new LLMChain chain...\u001b[0m\n",
            "Prompt after formatting:\n",
            "\u001b[32;1m\u001b[1;3mVocê é um chatbot tendo uma conversa com um humano.\n",
            "Dado as seguintes partes extraídas da resolução do vestibular da Unicamp, crie uma resposta final concisa e direta com o que foi perguntado.\n",
            "Se não for possível responder pelo contexto, diga que não possui a resposta.\n",
            "\n",
            "Não poderão se beneficiar do PAAIS ou de reserva de vagas (cotas) para autodeclarados(as) pretos(as) e pardos(as) candidatos(as) que já tenham concluído curso de graduação ou pós-graduação em Instituições de Ensino Superior públicas brasileiras (municipais, estaduais ou federais).\n",
            "\n",
            "Para ter direito à ação afirmativa por critério étnico-racial, os(as) estudantes selecionados(as) que concorreram às vagas reservadas aos(às) autodeclarados(as) pretos(as) ou pardos(as) deverão possuir traços fenotípicos que os(as) caracterizem como negro(as), de cor preta ou parda.\n",
            "\n",
            "§1º Os(as) candidatos(as) autodeclarados(as) pretos(as) e pardos(as) concorrerão a uma proporção mínima de 15% das vagas regulares em cada curso ou, se for o caso, até 27,2% das vagas, se houver candidatos(as) de 1ª opção que atendam aos critérios de Nota Mínima de Opção (NMO) do respectivo curso, conforme Tabela apresentada no Anexo III.\n",
            "\n",
            "§4º Disputarão as vagas pelo programa de reserva de vagas (cotas) apenas os(as) candidatos(as) autodeclarados(as) pretos(as) e pardos(as) que expressamente optarem pelo mesmo\n",
            "\n",
            "§5º As vagas não preenchidas por reserva para autodeclarados(as) pretos(as) e pardos(as) serão ocupadas pelos(as) demais candidatos(as) inscritos(as).\n",
            "\n",
            "Human: As cotas são para autodeclarados pretos, mas não para pardos?\n",
            "Chatbot:\u001b[0m\n",
            "\n",
            "\u001b[1m> Finished chain.\u001b[0m\n",
            "\n",
            "\u001b[1m> Finished chain.\u001b[0m\n",
            "\n",
            "\n",
            "\u001b[1m> Entering new StuffDocumentsChain chain...\u001b[0m\n",
            "\n",
            "\n",
            "\u001b[1m> Entering new LLMChain chain...\u001b[0m\n",
            "Prompt after formatting:\n",
            "\u001b[32;1m\u001b[1;3mVocê é um chatbot tendo uma conversa com um humano.\n",
            "Dado as seguintes partes extraídas da resolução do vestibular da Unicamp, crie uma resposta final concisa e direta com o que foi perguntado.\n",
            "Se não for possível responder pelo contexto, diga que não possui a resposta.\n",
            "\n",
            "§4º Disputarão as vagas pelo programa de reserva de vagas (cotas) apenas os(as) candidatos(as) autodeclarados(as) pretos(as) e pardos(as) que expressamente optarem pelo mesmo.  \n",
            "§5º As vagas não preenchidas por reserva para autodeclarados(as) pretos(as) e pardos(as) serão ocupadas pelos(as) demais candidatos(as) inscritos(as).\n",
            "\n",
            "Não poderão se beneficiar do PAAIS ou de reserva de vagas (cotas) para autodeclarados(as) pretos(as) e pardos(as) candidatos(as) que já tenham concluído curso de graduação ou pós-graduação em Instituições de Ensino Superior públicas brasileiras (municipais, estaduais ou federais).\n",
            "\n",
            "Para ter direito à ação afirmativa por critério étnico-racial, os(as) estudantes selecionados(as) que concorreram às vagas reservadas aos(às) autodeclarados(as) pretos(as) ou pardos(as) deverão possuir traços fenotípicos que os(as) caracterizem como negro(as), de cor preta ou parda.\n",
            "\n",
            "§1º Os(as) candidatos(as) autodeclarados(as) pretos(as) e pardos(as) concorrerão a uma proporção mínima de 15% das vagas regulares em cada curso ou, se for o caso, até 27,2% das vagas, se houver candidatos(as) de 1ª opção que atendam aos critérios de Nota Mínima de Opção (NMO) do respectivo curso, conforme Tabela apresentada no Anexo III.\n",
            "\n",
            "Esta Resolução entra em vigor na data de sua publicação, ficando revogadas as disposições em contrário.\n",
            "\n",
            "HARRISON, Charles. Modernismo, São Paulo: Cosac & Naify, 2001.\n",
            "HEARTNEY, Eleanor, Pós-Modernismo, São Paulo, Cosac & Naify Edições, 2002.\n",
            "MATESCO, Viviane. Corpo, imagem e representação.  Rio de Janeiro: Jorge Zahar, 2006.\n",
            "REIS, Paulo. Arte de Vanguarda no Brasil, Rio de Janeiro: Jorge Zahar, 2006.\n",
            "(Esta bibliografia não é obrigatória. Trata-se apenas de sugestões para estudos prévios à prova).\n",
            "\n",
            "1ªF/2ªF - A inserção do Brasil no diálogo internacional sobre o meio ambiente.  \n",
            "IV – Regionalização do espaço mundial  \n",
            "a) A organização político-territorial em escala mundial  \n",
            "1ªF/2ªF - As escalas de análise geográficas e sua articulação;\n",
            "1ªF/2ªF - Globalização e regionalização mundial (África, América, Ásia, Europa, Oceania);\n",
            "\n",
            "Neste estudo coreográfico, o (a) candidato (a) deverá considerar como tema motivador e inspirador de sua criação a escolha de uma das três obras (duas séries e uma instalação) da artista visual brasileira Rosana Paulino, disponíveis na página da Comvest (www.comvest.unicamp.br). A investigação corporal da obra escolhida é livre, assim como a linguagem de movimentos que o(a) candidato(a) utilizará\n",
            "\n",
            "II. É facultada aos inscritos(as), quando for o caso, reserva de vagas (cotas) para autodeclarados pretos e pardos, conforme art. 12 da Deliberação CONSU-A-032/2017.\n",
            "III. Os(as) candidatos(as) optantes por reserva de vagas (cotas) poderão fazer jus à bonificação do PAAIS, caso preencham as condições e requisitos do Programa.\n",
            "\n",
            "Human: As cotas são para autodeclarados pretos, mas não para pardos?\n",
            "Chatbot:\u001b[0m\n",
            "\n",
            "\u001b[1m> Finished chain.\u001b[0m\n",
            "\n",
            "\u001b[1m> Finished chain.\u001b[0m\n"
          ]
        },
        {
          "metadata": {
            "tags": null
          },
          "name": "stderr",
          "output_type": "stream",
          "text": [
            "WARNING:langchain.llms.base:Retrying langchain.llms.openai.completion_with_retry.<locals>._completion_with_retry in 4.0 seconds as it raised RateLimitError: Rate limit reached for text-davinci-003 in organization org-rj2M6CdePON1XQETqt9sBhzj on requests per min. Limit: 3 / min. Please try again in 20s. Visit https://platform.openai.com/account/rate-limits to learn more. You can increase your rate limit by adding a payment method to your account at https://platform.openai.com/account/billing..\n"
          ]
        },
        {
          "metadata": {
            "tags": null
          },
          "name": "stdout",
          "output_type": "stream",
          "text": [
            "\n",
            "\n",
            "\u001b[1m> Entering new StuffDocumentsChain chain...\u001b[0m\n",
            "\n",
            "\n",
            "\u001b[1m> Entering new LLMChain chain...\u001b[0m\n",
            "Prompt after formatting:\n",
            "\u001b[32;1m\u001b[1;3mVocê é um chatbot tendo uma conversa com um humano.\n",
            "Dado as seguintes partes extraídas da resolução do vestibular da Unicamp, crie uma resposta final concisa e direta com o que foi perguntado.\n",
            "Se não for possível responder pelo contexto, diga que não possui a resposta.\n",
            "\n",
            "Para ter direito à ação afirmativa por critério étnico-racial, os(as) estudantes selecionados(as) que concorreram às vagas reservadas aos(às) autodeclarados(as) pretos(as) ou pardos(as) deverão possuir traços fenotípicos que os(as) caracterizem como negro(as), de cor preta ou parda.\n",
            "\n",
            "§4º Disputarão as vagas pelo programa de reserva de vagas (cotas) apenas os(as) candidatos(as) autodeclarados(as) pretos(as) e pardos(as) que expressamente optarem pelo mesmo.  \n",
            "§5º As vagas não preenchidas por reserva para autodeclarados(as) pretos(as) e pardos(as) serão ocupadas pelos(as) demais candidatos(as) inscritos(as).\n",
            "\n",
            "§11 O(a) candidato(a) que participar do PAAIS Ensino Médio e/ou das reservas de vagas (cotas) para autodeclarados(as) pretos(as) e pardos(as) de escola pública terá a possibilidade de optar pela inscrição automática para as vagas do Edital ENEM-Unicamp, referidas no inciso II do Artigo 1º, na área de inscrição do VU 2024, sendo desnecessária nova inscrição no Edital ENEM-Unicamp.\n",
            "\n",
            "§1º Os(as) candidatos(as) autodeclarados(as) pretos(as) e pardos(as) concorrerão a uma proporção mínima de 15% das vagas regulares em cada curso ou, se for o caso, até 27,2% das vagas, se houver candidatos(as) de 1ª opção que atendam aos critérios de Nota Mínima de Opção (NMO) do respectivo curso, conforme Tabela apresentada no Anexo III.\n",
            "\n",
            "Human: Sou negro(a). Participarei das cotas automaticamente?\n",
            "Chatbot:\u001b[0m\n",
            "\n",
            "\u001b[1m> Finished chain.\u001b[0m\n",
            "\n",
            "\u001b[1m> Finished chain.\u001b[0m\n"
          ]
        },
        {
          "metadata": {
            "tags": null
          },
          "name": "stderr",
          "output_type": "stream",
          "text": [
            "WARNING:langchain.llms.base:Retrying langchain.llms.openai.completion_with_retry.<locals>._completion_with_retry in 4.0 seconds as it raised RateLimitError: Rate limit reached for text-davinci-003 in organization org-rj2M6CdePON1XQETqt9sBhzj on requests per min. Limit: 3 / min. Please try again in 20s. Visit https://platform.openai.com/account/rate-limits to learn more. You can increase your rate limit by adding a payment method to your account at https://platform.openai.com/account/billing..\n"
          ]
        },
        {
          "metadata": {
            "tags": null
          },
          "name": "stdout",
          "output_type": "stream",
          "text": [
            "\n",
            "\n",
            "\u001b[1m> Entering new StuffDocumentsChain chain...\u001b[0m\n",
            "\n",
            "\n",
            "\u001b[1m> Entering new LLMChain chain...\u001b[0m\n",
            "Prompt after formatting:\n",
            "\u001b[32;1m\u001b[1;3mVocê é um chatbot tendo uma conversa com um humano.\n",
            "Dado as seguintes partes extraídas da resolução do vestibular da Unicamp, crie uma resposta final concisa e direta com o que foi perguntado.\n",
            "Se não for possível responder pelo contexto, diga que não possui a resposta.\n",
            "\n",
            "Para ter direito à ação afirmativa por critério étnico-racial, os(as) estudantes selecionados(as) que concorreram às vagas reservadas aos(às) autodeclarados(as) pretos(as) ou pardos(as) deverão possuir traços fenotípicos que os(as) caracterizem como negro(as), de cor preta ou parda.\n",
            "\n",
            "§11 O(a) candidato(a) que participar do PAAIS Ensino Médio e/ou das reservas de vagas (cotas) para autodeclarados(as) pretos(as) e pardos(as) de escola pública terá a possibilidade de optar pela inscrição automática para as vagas do Edital ENEM-Unicamp, referidas no inciso II do Artigo 1º, na área de inscrição do VU 2024, sendo desnecessária nova inscrição no Edital ENEM-Unicamp.\n",
            "\n",
            "§4º Disputarão as vagas pelo programa de reserva de vagas (cotas) apenas os(as) candidatos(as) autodeclarados(as) pretos(as) e pardos(as) que expressamente optarem pelo mesmo\n",
            "\n",
            "§1º Os(as) candidatos(as) autodeclarados(as) pretos(as) e pardos(as) concorrerão a uma proporção mínima de 15% das vagas regulares em cada curso ou, se for o caso, até 27,2% das vagas, se houver candidatos(as) de 1ª opção que atendam aos critérios de Nota Mínima de Opção (NMO) do respectivo curso, conforme Tabela apresentada no Anexo III.\n",
            "\n",
            "§5º As vagas não preenchidas por reserva para autodeclarados(as) pretos(as) e pardos(as) serão ocupadas pelos(as) demais candidatos(as) inscritos(as).\n",
            "\n",
            "Human: Sou negro(a). Participarei das cotas automaticamente?\n",
            "Chatbot:\u001b[0m\n",
            "\n",
            "\u001b[1m> Finished chain.\u001b[0m\n",
            "\n",
            "\u001b[1m> Finished chain.\u001b[0m\n"
          ]
        },
        {
          "metadata": {
            "tags": null
          },
          "name": "stderr",
          "output_type": "stream",
          "text": [
            "WARNING:langchain.llms.base:Retrying langchain.llms.openai.completion_with_retry.<locals>._completion_with_retry in 4.0 seconds as it raised RateLimitError: Rate limit reached for text-davinci-003 in organization org-rj2M6CdePON1XQETqt9sBhzj on requests per min. Limit: 3 / min. Please try again in 20s. Visit https://platform.openai.com/account/rate-limits to learn more. You can increase your rate limit by adding a payment method to your account at https://platform.openai.com/account/billing..\n"
          ]
        },
        {
          "metadata": {
            "tags": null
          },
          "name": "stdout",
          "output_type": "stream",
          "text": [
            "\n",
            "\n",
            "\u001b[1m> Entering new StuffDocumentsChain chain...\u001b[0m\n",
            "\n",
            "\n",
            "\u001b[1m> Entering new LLMChain chain...\u001b[0m\n",
            "Prompt after formatting:\n",
            "\u001b[32;1m\u001b[1;3mVocê é um chatbot tendo uma conversa com um humano.\n",
            "Dado as seguintes partes extraídas da resolução do vestibular da Unicamp, crie uma resposta final concisa e direta com o que foi perguntado.\n",
            "Se não for possível responder pelo contexto, diga que não possui a resposta.\n",
            "\n",
            "Para ter direito à ação afirmativa por critério étnico-racial, os(as) estudantes selecionados(as) que concorreram às vagas reservadas aos(às) autodeclarados(as) pretos(as) ou pardos(as) deverão possuir traços fenotípicos que os(as) caracterizem como negro(as), de cor preta ou parda.\n",
            "\n",
            "§11 O(a) candidato(a) que participar do PAAIS Ensino Médio e/ou das reservas de vagas (cotas) para autodeclarados(as) pretos(as) e pardos(as) de escola pública terá a possibilidade de optar pela inscrição automática para as vagas do Edital ENEM-Unicamp, referidas no inciso II do Artigo 1º, na área de inscrição do VU 2024, sendo desnecessária nova inscrição no Edital ENEM-Unicamp.\n",
            "\n",
            "§3º A validação da autodeclaração, apresentada pelos(as) candidatos(as) optantes pelas cotas étnico-raciais, somente ocorrerá após a avaliação de fenótipo realizada pela Comissão de Averiguação, ficando a matrícula condicionada à aprovação nesta avaliação, conforme previsto na Resolução GR-074/2020, que institui a Comissão de Averiguação e estabelece procedimento de heteroidentificação\n",
            "\n",
            "§4º Disputarão as vagas pelo programa de reserva de vagas (cotas) apenas os(as) candidatos(as) autodeclarados(as) pretos(as) e pardos(as) que expressamente optarem pelo mesmo.  \n",
            "§5º As vagas não preenchidas por reserva para autodeclarados(as) pretos(as) e pardos(as) serão ocupadas pelos(as) demais candidatos(as) inscritos(as).\n",
            "\n",
            "Os critérios de convocação para a 2ª fase descritos no art. 21 serão aplicados igualmente entre os(as) optantes e não optantes por reserva de vagas (cotas) para autodeclarados(as) pretos(as) e pardos(as).\n",
            "\n",
            "que institui a Comissão de Averiguação e estabelece procedimento de heteroidentificação complementar à autodeclaração dos(as) candidatos(as) negros(as) (pretos(as) e pardos(as)) selecionados(as) no sistema de cotas étnico-raciais para vagas reservadas a negros(as) (pretos(as) e pardos(as)) na UNICAMP.\n",
            "\n",
            "II. É facultada aos inscritos(as), quando for o caso, reserva de vagas (cotas) para autodeclarados pretos e pardos, conforme art. 12 da Deliberação CONSU-A-032/2017.\n",
            "III. Os(as) candidatos(as) optantes por reserva de vagas (cotas) poderão fazer jus à bonificação do PAAIS, caso preencham as condições e requisitos do Programa.\n",
            "\n",
            "§1º Os(as) candidatos(as) autodeclarados(as) pretos(as) e pardos(as) concorrerão a uma proporção mínima de 15% das vagas regulares em cada curso ou, se for o caso, até 27,2% das vagas, se houver candidatos(as) de 1ª opção que atendam aos critérios de Nota Mínima de Opção (NMO) do respectivo curso, conforme Tabela apresentada no Anexo III.\n",
            "\n",
            "Human: Sou negro(a). Participarei das cotas automaticamente?\n",
            "Chatbot:\u001b[0m\n",
            "\n",
            "\u001b[1m> Finished chain.\u001b[0m\n",
            "\n",
            "\u001b[1m> Finished chain.\u001b[0m\n"
          ]
        },
        {
          "metadata": {
            "tags": null
          },
          "name": "stderr",
          "output_type": "stream",
          "text": [
            "WARNING:langchain.llms.base:Retrying langchain.llms.openai.completion_with_retry.<locals>._completion_with_retry in 4.0 seconds as it raised RateLimitError: Rate limit reached for text-davinci-003 in organization org-rj2M6CdePON1XQETqt9sBhzj on requests per min. Limit: 3 / min. Please try again in 20s. Visit https://platform.openai.com/account/rate-limits to learn more. You can increase your rate limit by adding a payment method to your account at https://platform.openai.com/account/billing..\n"
          ]
        },
        {
          "metadata": {
            "tags": null
          },
          "name": "stdout",
          "output_type": "stream",
          "text": [
            "\n",
            "\n",
            "\u001b[1m> Entering new StuffDocumentsChain chain...\u001b[0m\n",
            "\n",
            "\n",
            "\u001b[1m> Entering new LLMChain chain...\u001b[0m\n",
            "Prompt after formatting:\n",
            "\u001b[32;1m\u001b[1;3mVocê é um chatbot tendo uma conversa com um humano.\n",
            "Dado as seguintes partes extraídas da resolução do vestibular da Unicamp, crie uma resposta final concisa e direta com o que foi perguntado.\n",
            "Se não for possível responder pelo contexto, diga que não possui a resposta.\n",
            "\n",
            "Para o ano de 2024 são oferecidas 3340 vagas regulares para ingresso nos Cursos de Graduação da Unicamp distribuídas nos seguintes sistemas de ingresso:  \n",
            "I. 2537 vagas oferecidas pelo Vestibular Unicamp (VU) 2024.\n",
            "II. 314 vagas oferecidas pelo Edital ENEM-Unicamp 2024.\n",
            "III. 325 vagas oferecidas pelo Provão Paulista 2024.\n",
            "\n",
            "§3º Os(as) candidatos(as) contemplados(as) com a isenção da Taxa de Inscrição no Programa de Isenção de Pagamento da Taxa de Inscrição para o Ingresso Unicamp 2024 não estão automaticamente inscritos(as) no VU 2024 e devem fazer a inscrição na página da Comvest no período estipulado no artigo 13.\n",
            "\n",
            "§11 O(a) candidato(a) que participar do PAAIS Ensino Médio e/ou das reservas de vagas (cotas) para autodeclarados(as) pretos(as) e pardos(as) de escola pública terá a possibilidade de optar pela inscrição automática para as vagas do Edital ENEM-Unicamp, referidas no inciso II do Artigo 1º, na área de inscrição do VU 2024, sendo desnecessária nova inscrição no Edital ENEM-Unicamp.\n",
            "\n",
            "O(a) candidato(a) que participar de mais de um dos sistemas de seleção previstos na Deliberação CONSU-A-032/2017 (Vestibular Unicamp, Edital ENEM-Unicamp, Vestibular Indígena, Edital “Vagas Olímpicas”) será excluído(a), automaticamente, das vagas em outros sistemas quando efetivar a sua matrícula no sistema no qual foi convocado(a).\n",
            "\n",
            "Human: Posso entrar na Unicamp usando só minha nota do Enem?\n",
            "Chatbot:\u001b[0m\n",
            "\n",
            "\u001b[1m> Finished chain.\u001b[0m\n",
            "\n",
            "\u001b[1m> Finished chain.\u001b[0m\n",
            "\n",
            "\n",
            "\u001b[1m> Entering new StuffDocumentsChain chain...\u001b[0m\n",
            "\n",
            "\n",
            "\u001b[1m> Entering new LLMChain chain...\u001b[0m\n",
            "Prompt after formatting:\n",
            "\u001b[32;1m\u001b[1;3mVocê é um chatbot tendo uma conversa com um humano.\n",
            "Dado as seguintes partes extraídas da resolução do vestibular da Unicamp, crie uma resposta final concisa e direta com o que foi perguntado.\n",
            "Se não for possível responder pelo contexto, diga que não possui a resposta.\n",
            "\n",
            "§11 O(a) candidato(a) que participar do PAAIS Ensino Médio e/ou das reservas de vagas (cotas) para autodeclarados(as) pretos(as) e pardos(as) de escola pública terá a possibilidade de optar pela inscrição automática para as vagas do Edital ENEM-Unicamp, referidas no inciso II do Artigo 1º, na área de inscrição do VU 2024, sendo desnecessária nova inscrição no Edital ENEM-Unicamp.\n",
            "\n",
            "§3º Os(as) candidatos(as) contemplados(as) com a isenção da Taxa de Inscrição no Programa de Isenção de Pagamento da Taxa de Inscrição para o Ingresso Unicamp 2024 não estão automaticamente inscritos(as) no VU 2024 e devem fazer a inscrição na página da Comvest no período estipulado no artigo 13.\n",
            "\n",
            "O(a) candidato(a) que participar de mais de um dos sistemas de seleção previstos na Deliberação CONSU-A-032/2017 (Vestibular Unicamp, Edital ENEM-Unicamp, Vestibular Indígena, Edital “Vagas Olímpicas”) será excluído(a), automaticamente, das vagas em outros sistemas quando efetivar a sua matrícula no sistema no qual foi convocado(a).\n",
            "\n",
            "2537 vagas oferecidas pelo Vestibular Unicamp (VU) 2024.\n",
            "II. 314 vagas oferecidas pelo Edital ENEM-Unicamp 2024.\n",
            "III. 325 vagas oferecidas pelo Provão Paulista 2024.\n",
            "\n",
            "Human: Posso entrar na Unicamp usando só minha nota do Enem?\n",
            "Chatbot:\u001b[0m\n",
            "\n",
            "\u001b[1m> Finished chain.\u001b[0m\n",
            "\n",
            "\u001b[1m> Finished chain.\u001b[0m\n"
          ]
        },
        {
          "metadata": {
            "tags": null
          },
          "name": "stderr",
          "output_type": "stream",
          "text": [
            "WARNING:langchain.llms.base:Retrying langchain.llms.openai.completion_with_retry.<locals>._completion_with_retry in 4.0 seconds as it raised RateLimitError: Rate limit reached for text-davinci-003 in organization org-rj2M6CdePON1XQETqt9sBhzj on requests per min. Limit: 3 / min. Please try again in 20s. Visit https://platform.openai.com/account/rate-limits to learn more. You can increase your rate limit by adding a payment method to your account at https://platform.openai.com/account/billing..\n"
          ]
        },
        {
          "metadata": {
            "tags": null
          },
          "name": "stdout",
          "output_type": "stream",
          "text": [
            "\n",
            "\n",
            "\u001b[1m> Entering new StuffDocumentsChain chain...\u001b[0m\n",
            "\n",
            "\n",
            "\u001b[1m> Entering new LLMChain chain...\u001b[0m\n",
            "Prompt after formatting:\n",
            "\u001b[32;1m\u001b[1;3mVocê é um chatbot tendo uma conversa com um humano.\n",
            "Dado as seguintes partes extraídas da resolução do vestibular da Unicamp, crie uma resposta final concisa e direta com o que foi perguntado.\n",
            "Se não for possível responder pelo contexto, diga que não possui a resposta.\n",
            "\n",
            "Para o ano de 2024 são oferecidas 3340 vagas regulares para ingresso nos Cursos de Graduação da Unicamp distribuídas nos seguintes sistemas de ingresso:  \n",
            "I. 2537 vagas oferecidas pelo Vestibular Unicamp (VU) 2024.\n",
            "II. 314 vagas oferecidas pelo Edital ENEM-Unicamp 2024.\n",
            "III. 325 vagas oferecidas pelo Provão Paulista 2024.\n",
            "\n",
            "O(a) candidato(a) que participar de mais de um dos sistemas de seleção previstos na Deliberação CONSU-A-032/2017 (Vestibular Unicamp, Edital ENEM-Unicamp, Vestibular Indígena, Edital “Vagas Olímpicas”) será excluído(a), automaticamente, das vagas em outros sistemas quando efetivar a sua matrícula no sistema no qual foi convocado(a).\n",
            "\n",
            "§3º Os(as) candidatos(as) contemplados(as) com a isenção da Taxa de Inscrição no Programa de Isenção de Pagamento da Taxa de Inscrição para o Ingresso Unicamp 2024 não estão automaticamente inscritos(as) no VU 2024 e devem fazer a inscrição na página da Comvest no período estipulado no artigo 13.\n",
            "\n",
            "§11 O(a) candidato(a) que participar do PAAIS Ensino Médio e/ou das reservas de vagas (cotas) para autodeclarados(as) pretos(as) e pardos(as) de escola pública terá a possibilidade de optar pela inscrição automática para as vagas do Edital ENEM-Unicamp, referidas no inciso II do Artigo 1º, na área de inscrição do VU 2024, sendo desnecessária nova inscrição no Edital ENEM-Unicamp.\n",
            "\n",
            "A matrícula dos(as) candidatos(as) convocados(as) para os cursos de graduação da Unicamp cabe exclusivamente à Diretoria Acadêmica – DAC, exigindo-se, neste ato, o upload dos documentos relacionados nos incisos deste artigo no Sistema de Gestão Acadêmica (SIGA).  \n",
            "I. Para todos(as) os(as) candidatos(as):\n",
            "a) Diploma ou Certificado de Conclusão do ensino médio ou equivalente.\n",
            "\n",
            "a 2. A(s) provas de Matemática, História, Geografia, Interdisciplinar terão peso de valor igual a 1.\n",
            "\n",
            "O(a) candidato(a) convocado(a) que não apresentar os documentos comprobatórios exigidos no artigo 34 estará eliminado(a) do VU 2024 e terá a matrícula na Unicamp negada, não sendo possível abdicar dos pontos do PAAIS de maneira que estes sejam retirados do cômputo da nota.\n",
            "\n",
            "Human: Posso entrar na Unicamp usando só minha nota do Enem?\n",
            "Chatbot:\u001b[0m\n",
            "\n",
            "\u001b[1m> Finished chain.\u001b[0m\n",
            "\n",
            "\u001b[1m> Finished chain.\u001b[0m\n",
            "\n",
            "\n",
            "\u001b[1m> Entering new StuffDocumentsChain chain...\u001b[0m\n",
            "\n",
            "\n",
            "\u001b[1m> Entering new LLMChain chain...\u001b[0m\n",
            "Prompt after formatting:\n",
            "\u001b[32;1m\u001b[1;3mVocê é um chatbot tendo uma conversa com um humano.\n",
            "Dado as seguintes partes extraídas da resolução do vestibular da Unicamp, crie uma resposta final concisa e direta com o que foi perguntado.\n",
            "Se não for possível responder pelo contexto, diga que não possui a resposta.\n",
            "\n",
            "Os(as) candidatos(as) que tenham cursado o Ensino Fundamental II e/ou o Ensino Médio integralmente em escola pública brasileira poderão participar do Programa de Ação Afirmativa e Inclusão Social (PAAIS), recebendo a bonificação especificada na Deliberação CONSU-A-032/2017:\n",
            "\n",
            "§1º A participação no PAAIS é facultativa e deverá ser indicada no Formulário de Inscrição.  \n",
            "§2º A pontuação a ser adicionada é aquela referida no art. 9º.  \n",
            "§3º Candidatos(as) que tenham cursado algum período do Ensino Fundamental II e/ou Ensino Médio em instituição privada na condição de bolsista não podem ser contemplados(as) com a bonificação do PAAIS no período correspondente.\n",
            "\n",
            "§4º Não poderão ser contemplados(as) com a pontuação do PAAIS:  \n",
            "I. Candidatos(as) que cursaram escolas pertencentes a fundações privadas, ainda que gratuitas.\n",
            "II. Candidatos(as) que cursaram o ensino médio em escolas pertencentes ao Sistema S (SENAI, SESI e SENAC).\n",
            "\n",
            "V. Para optantes pelo PAAIS com uso de exames de certificação:\n",
            "a) Para quem possui Certificado de conclusão do Ensino Médio por meio do ENEM (até 2016);\n",
            "b) Certificado de conclusão do ENCCEJA.\n",
            "c) Certificado ou declaração de conclusão do Ensino Médio por meio do EJA, modalidade presencial, semipresencial ou a distância.\n",
            "\n",
            "Human: Quem fez supletivo pode beneficiar-se do PAAIS?\n",
            "Chatbot:\u001b[0m\n",
            "\n",
            "\u001b[1m> Finished chain.\u001b[0m\n",
            "\n",
            "\u001b[1m> Finished chain.\u001b[0m\n"
          ]
        },
        {
          "metadata": {
            "tags": null
          },
          "name": "stderr",
          "output_type": "stream",
          "text": [
            "WARNING:langchain.llms.base:Retrying langchain.llms.openai.completion_with_retry.<locals>._completion_with_retry in 4.0 seconds as it raised RateLimitError: Rate limit reached for text-davinci-003 in organization org-rj2M6CdePON1XQETqt9sBhzj on requests per min. Limit: 3 / min. Please try again in 20s. Visit https://platform.openai.com/account/rate-limits to learn more. You can increase your rate limit by adding a payment method to your account at https://platform.openai.com/account/billing..\n"
          ]
        },
        {
          "metadata": {
            "tags": null
          },
          "name": "stdout",
          "output_type": "stream",
          "text": [
            "\n",
            "\n",
            "\u001b[1m> Entering new StuffDocumentsChain chain...\u001b[0m\n",
            "\n",
            "\n",
            "\u001b[1m> Entering new LLMChain chain...\u001b[0m\n",
            "Prompt after formatting:\n",
            "\u001b[32;1m\u001b[1;3mVocê é um chatbot tendo uma conversa com um humano.\n",
            "Dado as seguintes partes extraídas da resolução do vestibular da Unicamp, crie uma resposta final concisa e direta com o que foi perguntado.\n",
            "Se não for possível responder pelo contexto, diga que não possui a resposta.\n",
            "\n",
            "Os(as) candidatos(as) que tenham cursado o Ensino Fundamental II e/ou o Ensino Médio integralmente em escola pública brasileira poderão participar do Programa de Ação Afirmativa e Inclusão Social (PAAIS), recebendo a bonificação especificada na Deliberação CONSU-A-032/2017:\n",
            "\n",
            "§2º A pontuação a ser adicionada é aquela referida no art. 9º.  \n",
            "§3º Candidatos(as) que tenham cursado algum período do Ensino Fundamental II e/ou Ensino Médio em instituição privada na condição de bolsista não podem ser contemplados(as) com a bonificação do PAAIS no período correspondente.\n",
            "\n",
            "Para optantes pelo PAAIS com uso de exames de certificação:\n",
            "a) Para quem possui Certificado de conclusão do Ensino Médio por meio do ENEM (até 2016);\n",
            "b) Certificado de conclusão do ENCCEJA.\n",
            "c) Certificado ou declaração de conclusão do Ensino Médio por meio do EJA, modalidade presencial, semipresencial ou a distância.\n",
            "\n",
            "§4º Não poderão ser contemplados(as) com a pontuação do PAAIS:  \n",
            "I. Candidatos(as) que cursaram escolas pertencentes a fundações privadas, ainda que gratuitas.\n",
            "II. Candidatos(as) que cursaram o ensino médio em escolas pertencentes ao Sistema S (SENAI, SESI e SENAC).\n",
            "\n",
            "§1º A participação no PAAIS é facultativa e deverá ser indicada no Formulário de Inscrição.  \n",
            "§2º A pontuação a ser adicionada é aquela referida no art. 9º\n",
            "\n",
            "Human: Quem fez supletivo pode beneficiar-se do PAAIS?\n",
            "Chatbot:\u001b[0m\n",
            "\n",
            "\u001b[1m> Finished chain.\u001b[0m\n",
            "\n",
            "\u001b[1m> Finished chain.\u001b[0m\n"
          ]
        },
        {
          "metadata": {
            "tags": null
          },
          "name": "stderr",
          "output_type": "stream",
          "text": [
            "WARNING:langchain.llms.base:Retrying langchain.llms.openai.completion_with_retry.<locals>._completion_with_retry in 4.0 seconds as it raised RateLimitError: Rate limit reached for text-davinci-003 in organization org-rj2M6CdePON1XQETqt9sBhzj on requests per min. Limit: 3 / min. Please try again in 20s. Visit https://platform.openai.com/account/rate-limits to learn more. You can increase your rate limit by adding a payment method to your account at https://platform.openai.com/account/billing..\n"
          ]
        },
        {
          "metadata": {
            "tags": null
          },
          "name": "stdout",
          "output_type": "stream",
          "text": [
            "\n",
            "\n",
            "\u001b[1m> Entering new StuffDocumentsChain chain...\u001b[0m\n",
            "\n",
            "\n",
            "\u001b[1m> Entering new LLMChain chain...\u001b[0m\n",
            "Prompt after formatting:\n",
            "\u001b[32;1m\u001b[1;3mVocê é um chatbot tendo uma conversa com um humano.\n",
            "Dado as seguintes partes extraídas da resolução do vestibular da Unicamp, crie uma resposta final concisa e direta com o que foi perguntado.\n",
            "Se não for possível responder pelo contexto, diga que não possui a resposta.\n",
            "\n",
            "a) Diploma ou Certificado de Conclusão do ensino médio ou equivalente.  \n",
            "II. Para optantes pelo PAAIS- Ensino Fundamental II:\n",
            "Para quem declarou ter cursado integralmente em escola pública brasileira o Ensino Fundamental II (da 5ª a 8ª série ou 6º ao 9º ano).\n",
            "\n",
            "Os(as) candidatos(as) que tenham cursado o Ensino Fundamental II e/ou o Ensino Médio integralmente em escola pública brasileira poderão participar do Programa de Ação Afirmativa e Inclusão Social (PAAIS), recebendo a bonificação especificada na Deliberação CONSU-A-032/2017:\n",
            "\n",
            "§1º A participação no PAAIS é facultativa e deverá ser indicada no Formulário de Inscrição.  \n",
            "§2º A pontuação a ser adicionada é aquela referida no art. 9º.  \n",
            "§3º Candidatos(as) que tenham cursado algum período do Ensino Fundamental II e/ou Ensino Médio em instituição privada na condição de bolsista não podem ser contemplados(as) com a bonificação do PAAIS no período correspondente.\n",
            "\n",
            "V. Para optantes pelo PAAIS com uso de exames de certificação:\n",
            "a) Para quem possui Certificado de conclusão do Ensino Médio por meio do ENEM (até 2016);\n",
            "b) Certificado de conclusão do ENCCEJA.\n",
            "c) Certificado ou declaração de conclusão do Ensino Médio por meio do EJA, modalidade presencial, semipresencial ou a distância.\n",
            "\n",
            "a)  Histórico Escolar Completo do Ensino Fundamental II realizado em estabelecimentos da rede pública brasileira (federal, estadual, municipal).  \n",
            "III. Para optantes pelo PAAIS - Ensino Médio:\n",
            "Para quem declarou ter cursado integralmente em escola pública brasileira o Ensino Médio (do 1º ao 3º ano).\n",
            "\n",
            "Human: Quem fez supletivo pode beneficiar-se do PAAIS?\n",
            "Chatbot:\u001b[0m\n",
            "\n",
            "\u001b[1m> Finished chain.\u001b[0m\n",
            "\n",
            "\u001b[1m> Finished chain.\u001b[0m\n"
          ]
        },
        {
          "metadata": {
            "tags": null
          },
          "name": "stderr",
          "output_type": "stream",
          "text": [
            "WARNING:langchain.llms.base:Retrying langchain.llms.openai.completion_with_retry.<locals>._completion_with_retry in 4.0 seconds as it raised RateLimitError: Rate limit reached for text-davinci-003 in organization org-rj2M6CdePON1XQETqt9sBhzj on requests per min. Limit: 3 / min. Please try again in 20s. Visit https://platform.openai.com/account/rate-limits to learn more. You can increase your rate limit by adding a payment method to your account at https://platform.openai.com/account/billing..\n"
          ]
        },
        {
          "metadata": {
            "tags": null
          },
          "name": "stdout",
          "output_type": "stream",
          "text": [
            "\n",
            "\n",
            "\u001b[1m> Entering new StuffDocumentsChain chain...\u001b[0m\n",
            "\n",
            "\n",
            "\u001b[1m> Entering new LLMChain chain...\u001b[0m\n",
            "Prompt after formatting:\n",
            "\u001b[32;1m\u001b[1;3mVocê é um chatbot tendo uma conversa com um humano.\n",
            "Dado as seguintes partes extraídas da resolução do vestibular da Unicamp, crie uma resposta final concisa e direta com o que foi perguntado.\n",
            "Se não for possível responder pelo contexto, diga que não possui a resposta.\n",
            "\n",
            "V. Para optantes pelo PAAIS com uso de exames de certificação:\n",
            "a) Para quem possui Certificado de conclusão do Ensino Médio por meio do ENEM (até 2016);\n",
            "b) Certificado de conclusão do ENCCEJA.\n",
            "c) Certificado ou declaração de conclusão do Ensino Médio por meio do EJA, modalidade presencial, semipresencial ou a distância.\n",
            "\n",
            "a) Diploma ou Certificado de Conclusão do ensino médio ou equivalente.  \n",
            "II. Para optantes pelo PAAIS- Ensino Fundamental II:\n",
            "Para quem declarou ter cursado integralmente em escola pública brasileira o Ensino Fundamental II (da 5ª a 8ª série ou 6º ao 9º ano).\n",
            "\n",
            "a) Histórico Escolar Completo do Ensino Médio realizado em estabelecimentos da rede pública brasileira (federal, estadual, municipal).  \n",
            "IV. Para optantes pelo PAAIS Ensino Fundamental II e Ensino Médio:\n",
            "Para quem declarou ter cursado integralmente em escola pública brasileira o Ensino Fundamental II (da 5ª a 8ª série ou 6º ao 9º ano) e o Ensino Médio (do 1º ao 3º ano).\n",
            "\n",
            "III. Conclusão do Ensino Médio por meio de Exames Nacionais de Certificação como o ENEM – até o ano de 2016 – e o Exame Nacional para Certificação de Competências de Jovens e Adultos (ENCCEJA), desde que o(a) candidato(a) não tenha cursado nenhum período do Ensino Médio em estabelecimentos privados de ensino mesmo como bolsista.\n",
            "\n",
            "Human: Em quais casos é aceita a conclusão do ensino médio pelo ENEM para participação no PAAIS?\n",
            "Chatbot:\u001b[0m\n",
            "\n",
            "\u001b[1m> Finished chain.\u001b[0m\n",
            "\n",
            "\u001b[1m> Finished chain.\u001b[0m\n",
            "\n",
            "\n",
            "\u001b[1m> Entering new StuffDocumentsChain chain...\u001b[0m\n",
            "\n",
            "\n",
            "\u001b[1m> Entering new LLMChain chain...\u001b[0m\n",
            "Prompt after formatting:\n",
            "\u001b[32;1m\u001b[1;3mVocê é um chatbot tendo uma conversa com um humano.\n",
            "Dado as seguintes partes extraídas da resolução do vestibular da Unicamp, crie uma resposta final concisa e direta com o que foi perguntado.\n",
            "Se não for possível responder pelo contexto, diga que não possui a resposta.\n",
            "\n",
            "Para optantes pelo PAAIS com uso de exames de certificação:\n",
            "a) Para quem possui Certificado de conclusão do Ensino Médio por meio do ENEM (até 2016);\n",
            "b) Certificado de conclusão do ENCCEJA.\n",
            "c) Certificado ou declaração de conclusão do Ensino Médio por meio do EJA, modalidade presencial, semipresencial ou a distância.\n",
            "\n",
            "IV. Para optantes pelo PAAIS Ensino Fundamental II e Ensino Médio:\n",
            "Para quem declarou ter cursado integralmente em escola pública brasileira o Ensino Fundamental II (da 5ª a 8ª série ou 6º ao 9º ano) e o Ensino Médio (do 1º ao 3º ano).\n",
            "\n",
            "Conclusão do Ensino Médio por meio de Exames Nacionais de Certificação como o ENEM – até o ano de 2016 – e o Exame Nacional para Certificação de Competências de Jovens e Adultos (ENCCEJA), desde que o(a) candidato(a) não tenha cursado nenhum período do Ensino Médio em estabelecimentos privados de ensino mesmo como bolsista.\n",
            "\n",
            "a) Histórico Escolar Completo do Ensino Médio realizado em estabelecimentos da rede pública brasileira (federal, estadual, municipal).  \n",
            "IV\n",
            "\n",
            "Human: Em quais casos é aceita a conclusão do ensino médio pelo ENEM para participação no PAAIS?\n",
            "Chatbot:\u001b[0m\n",
            "\n",
            "\u001b[1m> Finished chain.\u001b[0m\n",
            "\n",
            "\u001b[1m> Finished chain.\u001b[0m\n"
          ]
        },
        {
          "metadata": {
            "tags": null
          },
          "name": "stderr",
          "output_type": "stream",
          "text": [
            "WARNING:langchain.llms.base:Retrying langchain.llms.openai.completion_with_retry.<locals>._completion_with_retry in 4.0 seconds as it raised RateLimitError: Rate limit reached for text-davinci-003 in organization org-rj2M6CdePON1XQETqt9sBhzj on requests per min. Limit: 3 / min. Please try again in 20s. Visit https://platform.openai.com/account/rate-limits to learn more. You can increase your rate limit by adding a payment method to your account at https://platform.openai.com/account/billing..\n"
          ]
        },
        {
          "metadata": {
            "tags": null
          },
          "name": "stdout",
          "output_type": "stream",
          "text": [
            "\n",
            "\n",
            "\u001b[1m> Entering new StuffDocumentsChain chain...\u001b[0m\n",
            "\n",
            "\n",
            "\u001b[1m> Entering new LLMChain chain...\u001b[0m\n",
            "Prompt after formatting:\n",
            "\u001b[32;1m\u001b[1;3mVocê é um chatbot tendo uma conversa com um humano.\n",
            "Dado as seguintes partes extraídas da resolução do vestibular da Unicamp, crie uma resposta final concisa e direta com o que foi perguntado.\n",
            "Se não for possível responder pelo contexto, diga que não possui a resposta.\n",
            "\n",
            "V. Para optantes pelo PAAIS com uso de exames de certificação:\n",
            "a) Para quem possui Certificado de conclusão do Ensino Médio por meio do ENEM (até 2016);\n",
            "b) Certificado de conclusão do ENCCEJA.\n",
            "c) Certificado ou declaração de conclusão do Ensino Médio por meio do EJA, modalidade presencial, semipresencial ou a distância.\n",
            "\n",
            "a) Diploma ou Certificado de Conclusão do ensino médio ou equivalente.  \n",
            "II. Para optantes pelo PAAIS- Ensino Fundamental II:\n",
            "Para quem declarou ter cursado integralmente em escola pública brasileira o Ensino Fundamental II (da 5ª a 8ª série ou 6º ao 9º ano).\n",
            "\n",
            "a) Histórico Escolar Completo do Ensino Médio realizado em estabelecimentos da rede pública brasileira (federal, estadual, municipal).  \n",
            "IV. Para optantes pelo PAAIS Ensino Fundamental II e Ensino Médio:\n",
            "Para quem declarou ter cursado integralmente em escola pública brasileira o Ensino Fundamental II (da 5ª a 8ª série ou 6º ao 9º ano) e o Ensino Médio (do 1º ao 3º ano).\n",
            "\n",
            "a)  Histórico Escolar Completo do Ensino Fundamental II realizado em estabelecimentos da rede pública brasileira (federal, estadual, municipal).  \n",
            "III. Para optantes pelo PAAIS - Ensino Médio:\n",
            "Para quem declarou ter cursado integralmente em escola pública brasileira o Ensino Médio (do 1º ao 3º ano).\n",
            "\n",
            "Os(as) candidatos(as) que tenham cursado o Ensino Fundamental II e/ou o Ensino Médio integralmente em escola pública brasileira poderão participar do Programa de Ação Afirmativa e Inclusão Social (PAAIS), recebendo a bonificação especificada na Deliberação CONSU-A-032/2017:\n",
            "\n",
            "Human: Em quais casos é aceita a conclusão do ensino médio pelo ENEM para participação no PAAIS?\n",
            "Chatbot:\u001b[0m\n",
            "\n",
            "\u001b[1m> Finished chain.\u001b[0m\n",
            "\n",
            "\u001b[1m> Finished chain.\u001b[0m\n"
          ]
        },
        {
          "metadata": {
            "tags": null
          },
          "name": "stderr",
          "output_type": "stream",
          "text": [
            "WARNING:langchain.llms.base:Retrying langchain.llms.openai.completion_with_retry.<locals>._completion_with_retry in 4.0 seconds as it raised RateLimitError: Rate limit reached for text-davinci-003 in organization org-rj2M6CdePON1XQETqt9sBhzj on requests per min. Limit: 3 / min. Please try again in 20s. Visit https://platform.openai.com/account/rate-limits to learn more. You can increase your rate limit by adding a payment method to your account at https://platform.openai.com/account/billing..\n"
          ]
        },
        {
          "metadata": {
            "tags": null
          },
          "name": "stdout",
          "output_type": "stream",
          "text": [
            "\n",
            "\n",
            "\u001b[1m> Entering new StuffDocumentsChain chain...\u001b[0m\n",
            "\n",
            "\n",
            "\u001b[1m> Entering new LLMChain chain...\u001b[0m\n",
            "Prompt after formatting:\n",
            "\u001b[32;1m\u001b[1;3mVocê é um chatbot tendo uma conversa com um humano.\n",
            "Dado as seguintes partes extraídas da resolução do vestibular da Unicamp, crie uma resposta final concisa e direta com o que foi perguntado.\n",
            "Se não for possível responder pelo contexto, diga que não possui a resposta.\n",
            "\n",
            "a)  Histórico Escolar Completo do Ensino Fundamental II realizado em estabelecimentos da rede pública brasileira (federal, estadual, municipal).  \n",
            "III. Para optantes pelo PAAIS - Ensino Médio:\n",
            "Para quem declarou ter cursado integralmente em escola pública brasileira o Ensino Médio (do 1º ao 3º ano).\n",
            "\n",
            "Os(as) candidatos(as) que tenham cursado o Ensino Fundamental II e/ou o Ensino Médio integralmente em escola pública brasileira poderão participar do Programa de Ação Afirmativa e Inclusão Social (PAAIS), recebendo a bonificação especificada na Deliberação CONSU-A-032/2017:\n",
            "\n",
            "a) Histórico Escolar Completo do Ensino Médio realizado em estabelecimentos da rede pública brasileira (federal, estadual, municipal).  \n",
            "IV. Para optantes pelo PAAIS Ensino Fundamental II e Ensino Médio:\n",
            "Para quem declarou ter cursado integralmente em escola pública brasileira o Ensino Fundamental II (da 5ª a 8ª série ou 6º ao 9º ano) e o Ensino Médio (do 1º ao 3º ano).\n",
            "\n",
            "a) Diploma ou Certificado de Conclusão do ensino médio ou equivalente.  \n",
            "II. Para optantes pelo PAAIS- Ensino Fundamental II:\n",
            "Para quem declarou ter cursado integralmente em escola pública brasileira o Ensino Fundamental II (da 5ª a 8ª série ou 6º ao 9º ano).\n",
            "\n",
            "Human: Estudei uma parte do ensino médio em escola particular, mas com bolsa integral. Tenho direito aos pontos do PAAIS?\n",
            "Chatbot:\u001b[0m\n",
            "\n",
            "\u001b[1m> Finished chain.\u001b[0m\n",
            "\n",
            "\u001b[1m> Finished chain.\u001b[0m\n"
          ]
        },
        {
          "metadata": {
            "tags": null
          },
          "name": "stderr",
          "output_type": "stream",
          "text": [
            "WARNING:langchain.llms.base:Retrying langchain.llms.openai.completion_with_retry.<locals>._completion_with_retry in 4.0 seconds as it raised RateLimitError: Rate limit reached for text-davinci-003 in organization org-rj2M6CdePON1XQETqt9sBhzj on requests per min. Limit: 3 / min. Please try again in 20s. Visit https://platform.openai.com/account/rate-limits to learn more. You can increase your rate limit by adding a payment method to your account at https://platform.openai.com/account/billing..\n"
          ]
        },
        {
          "metadata": {
            "tags": null
          },
          "name": "stdout",
          "output_type": "stream",
          "text": [
            "\n",
            "\n",
            "\u001b[1m> Entering new StuffDocumentsChain chain...\u001b[0m\n",
            "\n",
            "\n",
            "\u001b[1m> Entering new LLMChain chain...\u001b[0m\n",
            "Prompt after formatting:\n",
            "\u001b[32;1m\u001b[1;3mVocê é um chatbot tendo uma conversa com um humano.\n",
            "Dado as seguintes partes extraídas da resolução do vestibular da Unicamp, crie uma resposta final concisa e direta com o que foi perguntado.\n",
            "Se não for possível responder pelo contexto, diga que não possui a resposta.\n",
            "\n",
            "Os(as) candidatos(as) que tenham cursado o Ensino Fundamental II e/ou o Ensino Médio integralmente em escola pública brasileira poderão participar do Programa de Ação Afirmativa e Inclusão Social (PAAIS), recebendo a bonificação especificada na Deliberação CONSU-A-032/2017:\n",
            "\n",
            "a) Diploma ou Certificado de Conclusão do ensino médio ou equivalente.  \n",
            "II. Para optantes pelo PAAIS- Ensino Fundamental II:\n",
            "Para quem declarou ter cursado integralmente em escola pública brasileira o Ensino Fundamental II (da 5ª a 8ª série ou 6º ao 9º ano).\n",
            "\n",
            "a) Histórico Escolar Completo do Ensino Médio realizado em estabelecimentos da rede pública brasileira (federal, estadual, municipal).  \n",
            "IV\n",
            "\n",
            "Human: Estudei uma parte do ensino médio em escola particular, mas com bolsa integral. Tenho direito aos pontos do PAAIS?\n",
            "Chatbot:\u001b[0m\n",
            "\n",
            "\u001b[1m> Finished chain.\u001b[0m\n",
            "\n",
            "\u001b[1m> Finished chain.\u001b[0m\n",
            "\n",
            "\n",
            "\u001b[1m> Entering new StuffDocumentsChain chain...\u001b[0m\n",
            "\n",
            "\n",
            "\u001b[1m> Entering new LLMChain chain...\u001b[0m\n",
            "Prompt after formatting:\n",
            "\u001b[32;1m\u001b[1;3mVocê é um chatbot tendo uma conversa com um humano.\n",
            "Dado as seguintes partes extraídas da resolução do vestibular da Unicamp, crie uma resposta final concisa e direta com o que foi perguntado.\n",
            "Se não for possível responder pelo contexto, diga que não possui a resposta.\n",
            "\n",
            "a)  Histórico Escolar Completo do Ensino Fundamental II realizado em estabelecimentos da rede pública brasileira (federal, estadual, municipal).  \n",
            "III. Para optantes pelo PAAIS - Ensino Médio:\n",
            "Para quem declarou ter cursado integralmente em escola pública brasileira o Ensino Médio (do 1º ao 3º ano).\n",
            "\n",
            "§1º A participação no PAAIS é facultativa e deverá ser indicada no Formulário de Inscrição.  \n",
            "§2º A pontuação a ser adicionada é aquela referida no art. 9º.  \n",
            "§3º Candidatos(as) que tenham cursado algum período do Ensino Fundamental II e/ou Ensino Médio em instituição privada na condição de bolsista não podem ser contemplados(as) com a bonificação do PAAIS no período correspondente.\n",
            "\n",
            "a) Histórico Escolar Completo do Ensino Médio realizado em estabelecimentos da rede pública brasileira (federal, estadual, municipal).  \n",
            "IV. Para optantes pelo PAAIS Ensino Fundamental II e Ensino Médio:\n",
            "Para quem declarou ter cursado integralmente em escola pública brasileira o Ensino Fundamental II (da 5ª a 8ª série ou 6º ao 9º ano) e o Ensino Médio (do 1º ao 3º ano).\n",
            "\n",
            "Os(as) candidatos(as) que tenham cursado o Ensino Fundamental II e/ou o Ensino Médio integralmente em escola pública brasileira poderão participar do Programa de Ação Afirmativa e Inclusão Social (PAAIS), recebendo a bonificação especificada na Deliberação CONSU-A-032/2017:\n",
            "\n",
            "Human: Estudei uma parte do ensino médio em escola particular, mas com bolsa integral. Tenho direito aos pontos do PAAIS?\n",
            "Chatbot:\u001b[0m\n",
            "\n",
            "\u001b[1m> Finished chain.\u001b[0m\n",
            "\n",
            "\u001b[1m> Finished chain.\u001b[0m\n"
          ]
        },
        {
          "metadata": {
            "tags": null
          },
          "name": "stderr",
          "output_type": "stream",
          "text": [
            "WARNING:langchain.llms.base:Retrying langchain.llms.openai.completion_with_retry.<locals>._completion_with_retry in 4.0 seconds as it raised RateLimitError: Rate limit reached for text-davinci-003 in organization org-rj2M6CdePON1XQETqt9sBhzj on requests per min. Limit: 3 / min. Please try again in 20s. Visit https://platform.openai.com/account/rate-limits to learn more. You can increase your rate limit by adding a payment method to your account at https://platform.openai.com/account/billing..\n"
          ]
        },
        {
          "output_type": "stream",
          "name": "stdout",
          "text": [
            "\n",
            "\n",
            "\u001b[1m> Entering new StuffDocumentsChain chain...\u001b[0m\n",
            "\n",
            "\n",
            "\u001b[1m> Entering new LLMChain chain...\u001b[0m\n",
            "Prompt after formatting:\n",
            "\u001b[32;1m\u001b[1;3mVocê é um chatbot tendo uma conversa com um humano.\n",
            "Dado as seguintes partes extraídas da resolução do vestibular da Unicamp, crie uma resposta final concisa e direta com o que foi perguntado.\n",
            "Se não for possível responder pelo contexto, diga que não possui a resposta.\n",
            "\n",
            "Os(as) candidatos(as) que tenham cursado o Ensino Fundamental II e/ou o Ensino Médio integralmente em escola pública brasileira poderão participar do Programa de Ação Afirmativa e Inclusão Social (PAAIS), recebendo a bonificação especificada na Deliberação CONSU-A-032/2017:\n",
            "\n",
            "a) Diploma ou Certificado de Conclusão do ensino médio ou equivalente.  \n",
            "II. Para optantes pelo PAAIS- Ensino Fundamental II:\n",
            "Para quem declarou ter cursado integralmente em escola pública brasileira o Ensino Fundamental II (da 5ª a 8ª série ou 6º ao 9º ano).\n",
            "\n",
            "§1º A participação no PAAIS é facultativa e deverá ser indicada no Formulário de Inscrição.  \n",
            "§2º A pontuação a ser adicionada é aquela referida no art. 9º.  \n",
            "§3º Candidatos(as) que tenham cursado algum período do Ensino Fundamental II e/ou Ensino Médio em instituição privada na condição de bolsista não podem ser contemplados(as) com a bonificação do PAAIS no período correspondente.\n",
            "\n",
            "a)  Histórico Escolar Completo do Ensino Fundamental II realizado em estabelecimentos da rede pública brasileira (federal, estadual, municipal).  \n",
            "III. Para optantes pelo PAAIS - Ensino Médio:\n",
            "Para quem declarou ter cursado integralmente em escola pública brasileira o Ensino Médio (do 1º ao 3º ano).\n",
            "\n",
            "Human: Quem já fez uma graduação em instituição de ensino superior pública pode beneficiar-se do PAAIS?\n",
            "Chatbot:\u001b[0m\n",
            "\n",
            "\u001b[1m> Finished chain.\u001b[0m\n",
            "\n",
            "\u001b[1m> Finished chain.\u001b[0m\n"
          ]
        },
        {
          "output_type": "stream",
          "name": "stderr",
          "text": [
            "WARNING:langchain.llms.base:Retrying langchain.llms.openai.completion_with_retry.<locals>._completion_with_retry in 4.0 seconds as it raised RateLimitError: Rate limit reached for text-davinci-003 in organization org-rj2M6CdePON1XQETqt9sBhzj on requests per min. Limit: 3 / min. Please try again in 20s. Visit https://platform.openai.com/account/rate-limits to learn more. You can increase your rate limit by adding a payment method to your account at https://platform.openai.com/account/billing..\n"
          ]
        },
        {
          "output_type": "stream",
          "name": "stdout",
          "text": [
            "\n",
            "\n",
            "\u001b[1m> Entering new StuffDocumentsChain chain...\u001b[0m\n",
            "\n",
            "\n",
            "\u001b[1m> Entering new LLMChain chain...\u001b[0m\n",
            "Prompt after formatting:\n",
            "\u001b[32;1m\u001b[1;3mVocê é um chatbot tendo uma conversa com um humano.\n",
            "Dado as seguintes partes extraídas da resolução do vestibular da Unicamp, crie uma resposta final concisa e direta com o que foi perguntado.\n",
            "Se não for possível responder pelo contexto, diga que não possui a resposta.\n",
            "\n",
            "Os(as) candidatos(as) que tenham cursado o Ensino Fundamental II e/ou o Ensino Médio integralmente em escola pública brasileira poderão participar do Programa de Ação Afirmativa e Inclusão Social (PAAIS), recebendo a bonificação especificada na Deliberação CONSU-A-032/2017:\n",
            "\n",
            "a)  Histórico Escolar Completo do Ensino Fundamental II realizado em estabelecimentos da rede pública brasileira (federal, estadual, municipal).  \n",
            "III. Para optantes pelo PAAIS - Ensino Médio:\n",
            "Para quem declarou ter cursado integralmente em escola pública brasileira o Ensino Médio (do 1º ao 3º ano).\n",
            "\n",
            "§2º A pontuação a ser adicionada é aquela referida no art. 9º.  \n",
            "§3º Candidatos(as) que tenham cursado algum período do Ensino Fundamental II e/ou Ensino Médio em instituição privada na condição de bolsista não podem ser contemplados(as) com a bonificação do PAAIS no período correspondente.\n",
            "\n",
            "§1º A participação no PAAIS é facultativa e deverá ser indicada no Formulário de Inscrição.  \n",
            "§2º A pontuação a ser adicionada é aquela referida no art. 9º\n",
            "\n",
            "Human: Quem já fez uma graduação em instituição de ensino superior pública pode beneficiar-se do PAAIS?\n",
            "Chatbot:\u001b[0m\n",
            "\n",
            "\u001b[1m> Finished chain.\u001b[0m\n",
            "\n",
            "\u001b[1m> Finished chain.\u001b[0m\n"
          ]
        },
        {
          "output_type": "stream",
          "name": "stderr",
          "text": [
            "WARNING:langchain.llms.base:Retrying langchain.llms.openai.completion_with_retry.<locals>._completion_with_retry in 4.0 seconds as it raised RateLimitError: Rate limit reached for text-davinci-003 in organization org-rj2M6CdePON1XQETqt9sBhzj on requests per min. Limit: 3 / min. Please try again in 20s. Visit https://platform.openai.com/account/rate-limits to learn more. You can increase your rate limit by adding a payment method to your account at https://platform.openai.com/account/billing..\n"
          ]
        },
        {
          "output_type": "stream",
          "name": "stdout",
          "text": [
            "\n",
            "\n",
            "\u001b[1m> Entering new StuffDocumentsChain chain...\u001b[0m\n",
            "\n",
            "\n",
            "\u001b[1m> Entering new LLMChain chain...\u001b[0m\n",
            "Prompt after formatting:\n",
            "\u001b[32;1m\u001b[1;3mVocê é um chatbot tendo uma conversa com um humano.\n",
            "Dado as seguintes partes extraídas da resolução do vestibular da Unicamp, crie uma resposta final concisa e direta com o que foi perguntado.\n",
            "Se não for possível responder pelo contexto, diga que não possui a resposta.\n",
            "\n",
            "a) Diploma ou Certificado de Conclusão do ensino médio ou equivalente.  \n",
            "II. Para optantes pelo PAAIS- Ensino Fundamental II:\n",
            "Para quem declarou ter cursado integralmente em escola pública brasileira o Ensino Fundamental II (da 5ª a 8ª série ou 6º ao 9º ano).\n",
            "\n",
            "a)  Histórico Escolar Completo do Ensino Fundamental II realizado em estabelecimentos da rede pública brasileira (federal, estadual, municipal).  \n",
            "III. Para optantes pelo PAAIS - Ensino Médio:\n",
            "Para quem declarou ter cursado integralmente em escola pública brasileira o Ensino Médio (do 1º ao 3º ano).\n",
            "\n",
            "a) Histórico Escolar Completo do Ensino Médio realizado em estabelecimentos da rede pública brasileira (federal, estadual, municipal).  \n",
            "IV. Para optantes pelo PAAIS Ensino Fundamental II e Ensino Médio:\n",
            "Para quem declarou ter cursado integralmente em escola pública brasileira o Ensino Fundamental II (da 5ª a 8ª série ou 6º ao 9º ano) e o Ensino Médio (do 1º ao 3º ano).\n",
            "\n",
            "Os(as) candidatos(as) que tenham cursado o Ensino Fundamental II e/ou o Ensino Médio integralmente em escola pública brasileira poderão participar do Programa de Ação Afirmativa e Inclusão Social (PAAIS), recebendo a bonificação especificada na Deliberação CONSU-A-032/2017:\n",
            "\n",
            "§1º A participação no PAAIS é facultativa e deverá ser indicada no Formulário de Inscrição.  \n",
            "§2º A pontuação a ser adicionada é aquela referida no art. 9º.  \n",
            "§3º Candidatos(as) que tenham cursado algum período do Ensino Fundamental II e/ou Ensino Médio em instituição privada na condição de bolsista não podem ser contemplados(as) com a bonificação do PAAIS no período correspondente.\n",
            "\n",
            "Human: Quem já fez uma graduação em instituição de ensino superior pública pode beneficiar-se do PAAIS?\n",
            "Chatbot:\u001b[0m\n",
            "\n",
            "\u001b[1m> Finished chain.\u001b[0m\n",
            "\n",
            "\u001b[1m> Finished chain.\u001b[0m\n"
          ]
        },
        {
          "output_type": "stream",
          "name": "stderr",
          "text": [
            "WARNING:langchain.llms.base:Retrying langchain.llms.openai.completion_with_retry.<locals>._completion_with_retry in 4.0 seconds as it raised RateLimitError: Rate limit reached for text-davinci-003 in organization org-rj2M6CdePON1XQETqt9sBhzj on requests per min. Limit: 3 / min. Please try again in 20s. Visit https://platform.openai.com/account/rate-limits to learn more. You can increase your rate limit by adding a payment method to your account at https://platform.openai.com/account/billing..\n"
          ]
        },
        {
          "output_type": "stream",
          "name": "stdout",
          "text": [
            "\n",
            "\n",
            "\u001b[1m> Entering new StuffDocumentsChain chain...\u001b[0m\n",
            "\n",
            "\n",
            "\u001b[1m> Entering new LLMChain chain...\u001b[0m\n",
            "Prompt after formatting:\n",
            "\u001b[32;1m\u001b[1;3mVocê é um chatbot tendo uma conversa com um humano.\n",
            "Dado as seguintes partes extraídas da resolução do vestibular da Unicamp, crie uma resposta final concisa e direta com o que foi perguntado.\n",
            "Se não for possível responder pelo contexto, diga que não possui a resposta.\n",
            "\n",
            "§3º Os(as) candidatos(as) contemplados(as) com a isenção da Taxa de Inscrição no Programa de Isenção de Pagamento da Taxa de Inscrição para o Ingresso Unicamp 2024 não estão automaticamente inscritos(as) no VU 2024 e devem fazer a inscrição na página da Comvest no período estipulado no artigo 13.\n",
            "\n",
            "Caso um(a) candidato(a) tenha sido convocado(a) em cursos diferentes, na mesma chamada, no VU 2024 e em outro(s) sistema(s) de ingresso, será considerada como opção a matrícula que ele(a) tenha efetivado primeiro, como gesto de sua deliberada escolha.\n",
            "\n",
            "O ingresso nos Cursos de Graduação por meio do VU 2024 será feito mediante processo classificatório, com aproveitamento dos(as) candidatos(as) até o limite das vagas fixadas para cada curso, obedecidas as normas da presente Resolução e informadas no Anexo I.\n",
            "\n",
            "A inscrição para o VU 2024 será única e todos os(as) candidatos(as) serão classificados(as) em ordem decrescente.  \n",
            "I. É facultada aos inscritos(as), quando for o caso, a bonificação prevista no Programa de Ação Afirmação e Inclusão Social (PAAIS), especificada nos artigos 9º e 10 desta Resolução.\n",
            "\n",
            "Human: Fui contemplado com a isenção. Estou inscrito automaticamente no vestibular?\n",
            "Chatbot:\u001b[0m\n",
            "\n",
            "\u001b[1m> Finished chain.\u001b[0m\n",
            "\n",
            "\u001b[1m> Finished chain.\u001b[0m\n"
          ]
        },
        {
          "output_type": "stream",
          "name": "stderr",
          "text": [
            "WARNING:langchain.llms.base:Retrying langchain.llms.openai.completion_with_retry.<locals>._completion_with_retry in 4.0 seconds as it raised RateLimitError: Rate limit reached for text-davinci-003 in organization org-rj2M6CdePON1XQETqt9sBhzj on requests per min. Limit: 3 / min. Please try again in 20s. Visit https://platform.openai.com/account/rate-limits to learn more. You can increase your rate limit by adding a payment method to your account at https://platform.openai.com/account/billing..\n"
          ]
        },
        {
          "output_type": "stream",
          "name": "stdout",
          "text": [
            "\n",
            "\n",
            "\u001b[1m> Entering new StuffDocumentsChain chain...\u001b[0m\n",
            "\n",
            "\n",
            "\u001b[1m> Entering new LLMChain chain...\u001b[0m\n",
            "Prompt after formatting:\n",
            "\u001b[32;1m\u001b[1;3mVocê é um chatbot tendo uma conversa com um humano.\n",
            "Dado as seguintes partes extraídas da resolução do vestibular da Unicamp, crie uma resposta final concisa e direta com o que foi perguntado.\n",
            "Se não for possível responder pelo contexto, diga que não possui a resposta.\n",
            "\n",
            "§3º Os(as) candidatos(as) contemplados(as) com a isenção da Taxa de Inscrição no Programa de Isenção de Pagamento da Taxa de Inscrição para o Ingresso Unicamp 2024 não estão automaticamente inscritos(as) no VU 2024 e devem fazer a inscrição na página da Comvest no período estipulado no artigo 13.\n",
            "\n",
            "Caso um(a) candidato(a) tenha sido convocado(a) em cursos diferentes, na mesma chamada, no VU 2024 e em outro(s) sistema(s) de ingresso, será considerada como opção a matrícula que ele(a) tenha efetivado primeiro, como gesto de sua deliberada escolha.\n",
            "\n",
            "O ingresso nos Cursos de Graduação por meio do VU 2024 será feito mediante processo classificatório, com aproveitamento dos(as) candidatos(as) até o limite das vagas fixadas para cada curso, obedecidas as normas da presente Resolução e informadas no Anexo I.\n",
            "\n",
            "A inscrição para o VU 2024 será única e todos os(as) candidatos(as) serão classificados(as) em ordem decrescente.  \n",
            "I. É facultada aos inscritos(as), quando for o caso, a bonificação prevista no Programa de Ação Afirmação e Inclusão Social (PAAIS), especificada nos artigos 9º e 10 desta Resolução.\n",
            "\n",
            "Human: Fui contemplado com a isenção. Estou inscrito automaticamente no vestibular?\n",
            "Chatbot:\u001b[0m\n",
            "\n",
            "\u001b[1m> Finished chain.\u001b[0m\n",
            "\n",
            "\u001b[1m> Finished chain.\u001b[0m\n",
            "\n",
            "\n",
            "\u001b[1m> Entering new StuffDocumentsChain chain...\u001b[0m\n",
            "\n",
            "\n",
            "\u001b[1m> Entering new LLMChain chain...\u001b[0m\n",
            "Prompt after formatting:\n",
            "\u001b[32;1m\u001b[1;3mVocê é um chatbot tendo uma conversa com um humano.\n",
            "Dado as seguintes partes extraídas da resolução do vestibular da Unicamp, crie uma resposta final concisa e direta com o que foi perguntado.\n",
            "Se não for possível responder pelo contexto, diga que não possui a resposta.\n",
            "\n",
            "§3º Os(as) candidatos(as) contemplados(as) com a isenção da Taxa de Inscrição no Programa de Isenção de Pagamento da Taxa de Inscrição para o Ingresso Unicamp 2024 não estão automaticamente inscritos(as) no VU 2024 e devem fazer a inscrição na página da Comvest no período estipulado no artigo 13.\n",
            "\n",
            "Caso um(a) candidato(a) tenha sido convocado(a) em cursos diferentes, na mesma chamada, no VU 2024 e em outro(s) sistema(s) de ingresso, será considerada como opção a matrícula que ele(a) tenha efetivado primeiro, como gesto de sua deliberada escolha.\n",
            "\n",
            "O(a) candidato(a) que participar de mais de um dos sistemas de seleção previstos na Deliberação CONSU-A-032/2017 (Vestibular Unicamp, Edital ENEM-Unicamp, Vestibular Indígena, Edital “Vagas Olímpicas”) será excluído(a), automaticamente, das vagas em outros sistemas quando efetivar a sua matrícula no sistema no qual foi convocado(a).\n",
            "\n",
            "Ocorrerão chamadas de convocados(as) para matrícula, declaração de interesse por vagas e lista de espera em datas, procedimentos e formatos estabelecidos no Manual do Ingresso. Será respeitada a reserva de vaga (cotas) indicada no § 1º do art. 7º desta Resolução.  \n",
            "§1º O(a) candidato(a) que não manifestar interesse na vaga não será convocado(a) para matrícula.\n",
            "\n",
            "§11 O(a) candidato(a) que participar do PAAIS Ensino Médio e/ou das reservas de vagas (cotas) para autodeclarados(as) pretos(as) e pardos(as) de escola pública terá a possibilidade de optar pela inscrição automática para as vagas do Edital ENEM-Unicamp, referidas no inciso II do Artigo 1º, na área de inscrição do VU 2024, sendo desnecessária nova inscrição no Edital ENEM-Unicamp.\n",
            "\n",
            "A inscrição para o VU 2024 será única e todos os(as) candidatos(as) serão classificados(as) em ordem decrescente.  \n",
            "I. É facultada aos inscritos(as), quando for o caso, a bonificação prevista no Programa de Ação Afirmação e Inclusão Social (PAAIS), especificada nos artigos 9º e 10 desta Resolução.\n",
            "\n",
            "Human: Fui contemplado com a isenção. Estou inscrito automaticamente no vestibular?\n",
            "Chatbot:\u001b[0m\n",
            "\n",
            "\u001b[1m> Finished chain.\u001b[0m\n",
            "\n",
            "\u001b[1m> Finished chain.\u001b[0m\n"
          ]
        }
      ]
    },
    {
      "cell_type": "code",
      "source": [
        "answers = pd.DataFrame([answer1, answer2, answer3])\n",
        "answers = answers.T\n",
        "answers.to_csv(\"/drive/MyDrive/Chatbot/respostas.csv\", index=False)"
      ],
      "metadata": {
        "id": "0TI4MVsA3vt-"
      },
      "execution_count": 34,
      "outputs": []
    },
    {
      "cell_type": "code",
      "source": [
        "answers = pd.read_csv(\"/drive/MyDrive/Chatbot/respostas.csv\", dtype=str)\n",
        "answers.columns = [\"pinecone\",\"compression\",\"multyquery\"]"
      ],
      "metadata": {
        "id": "aRNc1PaB342M"
      },
      "execution_count": 40,
      "outputs": []
    },
    {
      "cell_type": "markdown",
      "source": [
        "## Métricas"
      ],
      "metadata": {
        "id": "mLGx4kR-4qHW"
      }
    },
    {
      "cell_type": "code",
      "source": [
        "from langchain.evaluation import load_evaluator\n",
        "\n",
        "evaluator1 = load_evaluator(\"embedding_distance\") # Calcula a distância entre os embeddings da resposta e a resposta esperada\n",
        "evaluator2 = load_evaluator(\"string_distance\") # Calcula a distância de levenshtein entre as respostaas"
      ],
      "metadata": {
        "id": "5Q2DbFXBSG0p"
      },
      "execution_count": 45,
      "outputs": []
    },
    {
      "cell_type": "code",
      "source": [
        "answers[\"reference\"] = validacao[validacao.index <= 13][\"reference\"]"
      ],
      "metadata": {
        "id": "CYnOM7P45BYG"
      },
      "execution_count": 47,
      "outputs": []
    },
    {
      "cell_type": "code",
      "source": [
        "distance1 = dict() #Distância dos embeddings entre resposta esperada e referência\n",
        "distance2 = dict() #Distância de levenshtein entre resposta esperada e referência\n",
        "for retriever in [\"pinecone\",\"compression\",\"multyquery\"]:\n",
        "  distance1[retriever] = []\n",
        "  distance2[retriever] = []\n",
        "  for i in range(13):\n",
        "    #distance1[retriever].append(evaluator1.evaluate_strings(prediction=answers.loc[i, retriever], reference=answers.loc[i, \"reference\"]))\n",
        "    score = evaluator2.evaluate_strings(prediction=answers.loc[i, retriever], reference=answers.loc[i, \"reference\"])\n",
        "    distance2[retriever].append(score[\"score\"])"
      ],
      "metadata": {
        "id": "U0IQgWJ-_UI2"
      },
      "execution_count": 69,
      "outputs": []
    },
    {
      "cell_type": "code",
      "source": [
        "import numpy as np\n",
        "import matplotlib.pyplot as plt\n",
        "\n",
        "pinecone = np.array(distance2[\"pinecone\"])\n",
        "compression = np.array(distance2[\"compression\"])\n",
        "multyquery = np.array(distance2[\"multyquery\"])"
      ],
      "metadata": {
        "id": "nFYK5Q7oCBHG"
      },
      "execution_count": 80,
      "outputs": []
    },
    {
      "cell_type": "code",
      "source": [
        "import matplotlib.pyplot as plt"
      ],
      "metadata": {
        "id": "cWIpdJhCGHRX"
      },
      "execution_count": 89,
      "outputs": []
    },
    {
      "cell_type": "code",
      "source": [
        "fig, ax = plt.subplots()\n",
        "ax.plot(pinecone, label=\"Pinecone\")\n",
        "ax.plot(compression, label=\"CompressionRetriever\")\n",
        "ax.plot(multyquery, label=\"MultyQueryRetriever\")\n",
        "ax.set_ylabel(\"Levenshtein distance\")\n",
        "ax.set_xlabel(\"Query\")\n",
        "plt.legend()"
      ],
      "metadata": {
        "colab": {
          "base_uri": "https://localhost:8080/",
          "height": 466
        },
        "id": "mM1hRsYVC-jP",
        "outputId": "184e3412-3093-403a-ecf3-9722c47c8d64"
      },
      "execution_count": 94,
      "outputs": [
        {
          "output_type": "execute_result",
          "data": {
            "text/plain": [
              "<matplotlib.legend.Legend at 0x7abe335ade70>"
            ]
          },
          "metadata": {},
          "execution_count": 94
        },
        {
          "output_type": "display_data",
          "data": {
            "text/plain": [
              "<Figure size 640x480 with 1 Axes>"
            ],
            "image/png": "[encoded data removed]"
          },
          "metadata": {}
        }
      ]
    }
  ]
}